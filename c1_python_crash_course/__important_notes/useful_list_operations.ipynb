{
 "cells": [
  {
   "cell_type": "markdown",
   "metadata": {},
   "source": [
    "### Some Important 'List' Class Operations"
   ]
  },
  {
   "cell_type": "code",
   "execution_count": 31,
   "metadata": {},
   "outputs": [
    {
     "name": "stdout",
     "output_type": "stream",
     "text": [
      "True\n",
      "['we', 'are']\n",
      "['Now', 'we']\n",
      "['are', 'cooking!']\n",
      "['Now', 'we', 'are', 'cooking!', \"Let's\", 'add', 'some', 'more']\n"
     ]
    }
   ],
   "source": [
    "# list operations similar to strings:\n",
    "x = [\"Now\", \"we\", \"are\", \"cooking!\"] # list (similar to array BUT not same!)\n",
    "\n",
    "# checking presence of an element using 'in':\n",
    "print(\"We\".lower() in x) # True\n",
    "\n",
    "# slicing\n",
    "print(x[1:3]) # ['we', 'are']\n",
    "print(x[:2]) # ['Now', 'we']\n",
    "print(x[2:]) # ['are', 'cooking!']\n",
    "\n",
    "# concatenation\n",
    "x += [\"Let's\", \"add\", \"some\", \"more\"]\n",
    "print(x) # ['Now', 'we', 'are', 'cooking!', \"Let's\", 'add', 'some', 'more']\n"
   ]
  },
  {
   "cell_type": "code",
   "execution_count": 32,
   "metadata": {},
   "outputs": [
    {
     "name": "stdout",
     "output_type": "stream",
     "text": [
      "lesson\n"
     ]
    }
   ],
   "source": [
    "# applying string concepts with lists (practical use-case):\n",
    "def get_word(sentence, n):\n",
    "\t# Only proceed if n is positive \n",
    "\tif n > 0:\n",
    "\t\twords = sentence.split()\n",
    "\t\t# Only proceed if n is not more than the number of words \n",
    "\t\tif n <= len(words):\n",
    "\t\t\treturn(words[n-1])\n",
    "\treturn \"\"\n",
    "\n",
    "print(get_word(\"This is a lesson about lists\", 4)) # Should print: lesson"
   ]
  },
  {
   "cell_type": "code",
   "execution_count": 33,
   "metadata": {},
   "outputs": [
    {
     "name": "stdout",
     "output_type": "stream",
     "text": [
      "['Pineapple', 'Banana', 'Apple', 'Melon', 'Kiwi'] (append)\n",
      "['Orange', 'Pineapple', 'Banana', 'Apple', 'Melon', 'Kiwi'] (insert at 0)\n",
      "['Orange', 'Pineapple', 'Banana', 'Apple', 'Melon', 'Kiwi', 'Mango'] (insert beyond length)\n",
      "['Orange', 'Grapes', 'Blackberry', 'Pineapple', 'Banana', 'Apple', 'Melon', 'Kiwi', 'Mango'] (insert using slicing)\n",
      "['Orange', 'Blueberry', 'Cherry', 'Pineapple', 'Banana', 'Apple', 'Melon', 'Kiwi', 'Mango'] (replace using slicing)\n",
      "['Orange', 'Blueberry', 'Cherry', 'Pineapple', 'Banana', 'Apple', 'Kiwi', 'Mango'] (remove)\n",
      "['Orange', 'Cherry', 'Pineapple', 'Banana', 'Apple', 'Kiwi', 'Mango'] (pop at 1)\n",
      "['Orange', 'Strawberry', 'Pineapple', 'Banana', 'Apple', 'Kiwi', 'Mango'] (direct assignment at 1)\n"
     ]
    }
   ],
   "source": [
    "# specific operations on lists:\n",
    "fruits = [\"Pineapple\", \"Banana\", \"Apple\", \"Melon\"]\n",
    "\n",
    "fruits.append(\"Kiwi\") # adds element to the end of the list\n",
    "print(fruits, \"(append)\")\n",
    "\n",
    "fruits.insert(0, \"Orange\")\n",
    "print(fruits, \"(insert at 0)\")\n",
    "\n",
    "# inserting at index greater than length of list is allowed:\n",
    "fruits.insert(fruits.__len__() + 5, \"Mango\") # same as fruits.append(\"Mango\")\n",
    "print(fruits, \"(insert beyond length)\")\n",
    "\n",
    "# slicing can also be used to add multiple elements:\n",
    "fruits[1:1] = [\"Grapes\", \"Blackberry\"] # here both indices must be same, otherwise it will 'replace' the slice\n",
    "print(fruits, \"(insert using slicing)\")\n",
    "\n",
    "# replacing elements using slicing:\n",
    "fruits[1:3] = [\"Blueberry\", \"Cherry\"]\n",
    "print(fruits, \"(replace using slicing)\")\n",
    "\n",
    "fruits.remove(\"Melon\") # uses value to delete (the first occurence)\n",
    "print(fruits, \"(remove)\")\n",
    "\n",
    "fruits.pop(1) # uses index to delete (and returns the deleted element)\n",
    "print(fruits, \"(pop at 1)\")\n",
    "\n",
    "fruits[1] = \"Strawberry\" # direct assignment is allowed\n",
    "print(fruits, \"(direct assignment at 1)\")\n",
    "\n",
    "# note: all the above operations 'modify' the list 'in place' (meaning list is 'mutable')"
   ]
  },
  {
   "cell_type": "code",
   "execution_count": 34,
   "metadata": {},
   "outputs": [
    {
     "name": "stdout",
     "output_type": "stream",
     "text": [
      "['a', 'c', 'e', 'g']\n",
      "['Orange', 'Strawberry', 'Peach']\n"
     ]
    }
   ],
   "source": [
    "# powerful usage of 'enumerate' function on lists:\n",
    "def _skip_elements(elements): \n",
    "    new_list = []\n",
    "    for idx, elem in enumerate(elements):\n",
    "        if idx % 2 == 0:\n",
    "            new_list.append(elem)\n",
    "    return new_list\n",
    "\n",
    "def skip_elements(elements): # much cleaner version\n",
    "\treturn [elem for idx, elem in enumerate(elements) if idx % 2 == 0]\n",
    "\n",
    "print(skip_elements([\"a\", \"b\", \"c\", \"d\", \"e\", \"f\", \"g\"])) # Should be ['a', 'c', 'e', 'g']\n",
    "print(skip_elements(['Orange', 'Pineapple', 'Strawberry', 'Kiwi', 'Peach'])) # Should be ['Orange', 'Strawberry', 'Peach']"
   ]
  },
  {
   "cell_type": "code",
   "execution_count": 35,
   "metadata": {},
   "outputs": [
    {
     "name": "stdout",
     "output_type": "stream",
     "text": [
      "Total sum: 219 - Average: 43.8\n"
     ]
    }
   ],
   "source": [
    "# understanding the efficient use of in-built List method '__len__()':\n",
    "values = [ 23, 52, 59, 37, 48]\n",
    "# length = 0 # inefficient approach\n",
    "length = values.__len__() # efficient approach, O(1) time complexity\n",
    "sum = 0\n",
    "\n",
    "for value in values: # iterating through the list\n",
    "    sum += value\n",
    "    # length += 1 # inefficient approach, O(n) time complexity\n",
    "\n",
    "print(\"Total sum: \" + str(sum) + \" - Average: \" + str(sum/length))"
   ]
  },
  {
   "cell_type": "code",
   "execution_count": 36,
   "metadata": {},
   "outputs": [
    {
     "name": "stdout",
     "output_type": "stream",
     "text": [
      "[2, 12, 14, 19, 22, 32, 57] (sorted_numbers: using 'sorted' function)\n",
      "[2, 12, 14, 19, 22, 32, 57] (numbers: using list's 'sort' method)\n"
     ]
    }
   ],
   "source": [
    "# list.sort() vs sorted(list):\n",
    "numbers = [12, 2, 32, 19, 57, 22, 14]\n",
    "\n",
    "sorted_numbers = sorted(numbers) # returns a new sorted list\n",
    "print(sorted_numbers, \"(sorted_numbers: using 'sorted' function)\")\n",
    "\n",
    "numbers.sort() # sorts the list 'in-place' (i.e. modifies the original list)\n",
    "print(numbers, \"(numbers: using list's 'sort' method)\")\n",
    "\n",
    "# note: both uses 'Timsort' algorithm (a hybrid of 'merge' & 'insertion' sort) which takes O(nlogn) time complexity\n",
    "# key takeaway: using 'list.sort()' is better when you don't want to preserve the original list\n"
   ]
  }
 ],
 "metadata": {
  "kernelspec": {
   "display_name": "Python 3",
   "language": "python",
   "name": "python3"
  },
  "language_info": {
   "codemirror_mode": {
    "name": "ipython",
    "version": 3
   },
   "file_extension": ".py",
   "mimetype": "text/x-python",
   "name": "python",
   "nbconvert_exporter": "python",
   "pygments_lexer": "ipython3",
   "version": "3.12.1"
  }
 },
 "nbformat": 4,
 "nbformat_minor": 2
}
