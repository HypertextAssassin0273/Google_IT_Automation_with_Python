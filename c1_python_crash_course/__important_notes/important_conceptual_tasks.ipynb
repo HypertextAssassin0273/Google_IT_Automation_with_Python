{
 "cells": [
  {
   "cell_type": "code",
   "execution_count": 22,
   "metadata": {},
   "outputs": [
    {
     "name": "stdout",
     "output_type": "stream",
     "text": [
      "8.0\n"
     ]
    }
   ],
   "source": [
    "# understanding 'PEMDAS' rule & operator precedence:\n",
    "print(12 / (1 + 2) + 2 ** 2) # 12/(1+2) = 4, 2**2 = 4, 4+4 = 8"
   ]
  },
  {
   "cell_type": "code",
   "execution_count": 23,
   "metadata": {},
   "outputs": [
    {
     "name": "stdout",
     "output_type": "stream",
     "text": [
      "A 65\n"
     ]
    }
   ],
   "source": [
    "# convert 'integer' to 'character' & vice-versa (using ASCII value):\n",
    "print(chr(65), ord('A'))\n",
    "\n",
    "# note: chr() -> ASCII (int) to char, ord() -> char to ASCII (int)"
   ]
  },
  {
   "cell_type": "code",
   "execution_count": 24,
   "metadata": {},
   "outputs": [
    {
     "name": "stdout",
     "output_type": "stream",
     "text": [
      "True\n"
     ]
    }
   ],
   "source": [
    "# comparison of strings is based on ASCII values of characters:\n",
    "print(\"Wednesday\" > \"Friday\") # e.g. 'W' = 87 > 'F' = 70"
   ]
  },
  {
   "cell_type": "code",
   "execution_count": 25,
   "metadata": {},
   "outputs": [
    {
     "name": "stdout",
     "output_type": "stream",
     "text": [
      "Number is negative.\n"
     ]
    }
   ],
   "source": [
    "# understanding relation b/w 'if-elif-else' branches & 'ternary' operator:\n",
    "number = -4\n",
    "\n",
    "# if number > 0:\n",
    "#     print('Number is positive.')\n",
    "# elif number == 0:\n",
    "#     print('Number is zero.')\n",
    "# else:\n",
    "#     print('Number is negative.')\n",
    "\n",
    "# write same above task with ternary operator:\n",
    "# note: not efficient for readability & logic building\n",
    "\n",
    "print('Number is positive.' if number > 0 else 'Number is zero.' if number == 0 else 'Number is negative.')"
   ]
  },
  {
   "cell_type": "code",
   "execution_count": 26,
   "metadata": {},
   "outputs": [
    {
     "name": "stdout",
     "output_type": "stream",
     "text": [
      "1 hrs, 2 mins and 3 secs\n"
     ]
    }
   ],
   "source": [
    "# function to convert seconds into 'hours, minutes and remaining seconds' (i.e. clock format):\n",
    "def convert_seconds(seconds):\n",
    "    hours = seconds // 3600 # // -> integer/floor division (i.e. ignores the decimal part)\n",
    "\n",
    "    minutes = (seconds - hours * 3600) // 60\n",
    "    # minutes = (seconds % 3600) // 60 # seconds % 3600 -> remaining hours (in seconds)\n",
    "\n",
    "    remaining_seconds = seconds - hours * 3600 - minutes * 60\n",
    "    # remaining_seconds = (seconds % 3600) % 60\n",
    "    # remaining_seconds = seconds % 60 # efficient\n",
    "\n",
    "    return hours, minutes, remaining_seconds\n",
    "\n",
    "# usage of function:\n",
    "hours, minutes, seconds = convert_seconds(3723) # unpacking the tuple returned by the function\n",
    "print(hours,\"hrs,\", minutes, \"mins and\", seconds, \"secs\")"
   ]
  },
  {
   "cell_type": "code",
   "execution_count": 27,
   "metadata": {},
   "outputs": [
    {
     "name": "stdout",
     "output_type": "stream",
     "text": [
      "4096\n",
      "4096\n",
      "8192\n",
      "8192\n",
      "8192\n",
      "12288\n"
     ]
    }
   ],
   "source": [
    "# function to calculate the total number of bytes required to allocate enough blocks to store your data:\n",
    "def calculate_storage(filesize):\n",
    "    block_size = 4096\n",
    "    # Use floor division to calculate how many blocks are fully occupied\n",
    "    full_blocks = filesize // block_size\n",
    "    # Use the modulo operator to check whether there's any remainder\n",
    "    partial_block_remainder = filesize % block_size\n",
    "    # Depending on whether there's a remainder or not, return\n",
    "    # the total number of bytes required to allocate enough blocks\n",
    "    # to store your data.\n",
    "    if partial_block_remainder > 0:\n",
    "        return block_size * (full_blocks + 1)\n",
    "    return filesize\n",
    "\n",
    "# test cases:\n",
    "print(calculate_storage(1))    # Should be 4096\n",
    "print(calculate_storage(4096)) # Should be 4096\n",
    "print(calculate_storage(4097)) # Should be 8192\n",
    "print(calculate_storage(6000)) # Should be 8192\n",
    "print(calculate_storage(8192)) # Should be 8192\n",
    "print(calculate_storage(8193)) # Should be 12288"
   ]
  },
  {
   "cell_type": "code",
   "execution_count": 28,
   "metadata": {},
   "outputs": [
    {
     "name": "stdout",
     "output_type": "stream",
     "text": [
      "0\n",
      "2\n",
      "4\n",
      "8\n"
     ]
    }
   ],
   "source": [
    "# function to count the number of factors of a given number using 'while' loop:\n",
    "def count_factors(given_number):\n",
    "    factor = 1\n",
    "    count = 1\n",
    "\n",
    "    if given_number == 0:\n",
    "        return 0\n",
    "\n",
    "    while factor < given_number:\n",
    "        if given_number % factor == 0:\n",
    "            count += 1\n",
    "        factor += 1\n",
    "\n",
    "    return count\n",
    "\n",
    "# test cases:\n",
    "print(count_factors(0))  # 0 has 'no' factors\n",
    "print(count_factors(3))  # 2 factors (1x3)\n",
    "print(count_factors(10)) # 4 factors (1x10, 2x5)\n",
    "print(count_factors(24)) # 8 factors (1x24, 2x12, 3x8, 4x6)"
   ]
  },
  {
   "cell_type": "code",
   "execution_count": 29,
   "metadata": {},
   "outputs": [
    {
     "name": "stdout",
     "output_type": "stream",
     "text": [
      "k o n i c h i w a \n",
      "1) 2) 3) 4) 5) "
     ]
    }
   ],
   "source": [
    "# 'temporaries' can be directly iterated in 'for' loop:\n",
    "for letter in 'konichiwa': # temporary string example\n",
    "    print(letter, end=\" \")\n",
    "\n",
    "print() # empty line (for better readability)\n",
    "for number in [ 1, 2, 3, 4, 5]: # temporary list example\n",
    "    print(number, end=\") \")\n",
    "\n",
    "# note: 'temporary' means that the value is not stored in memory (i.e. not assigned to a variable)"
   ]
  },
  {
   "cell_type": "code",
   "execution_count": 30,
   "metadata": {},
   "outputs": [
    {
     "name": "stdout",
     "output_type": "stream",
     "text": [
      "[0|0] [0|1] [0|2] [0|3] [0|4] [0|5] [0|6] \n",
      "[1|1] [1|2] [1|3] [1|4] [1|5] [1|6] \n",
      "[2|2] [2|3] [2|4] [2|5] [2|6] \n",
      "[3|3] [3|4] [3|5] [3|6] \n",
      "[4|4] [4|5] [4|6] \n",
      "[5|5] [5|6] \n",
      "[6|6] \n"
     ]
    }
   ],
   "source": [
    "# nested loops (where the inner loop depends on the outer loop):\n",
    "for left in range(7):\n",
    "    for right in range(left, 7):\n",
    "        print(\"[\" + str(left) + \"|\" + str(right) + \"]\", end=\" \")\n",
    "    print()"
   ]
  },
  {
   "cell_type": "code",
   "execution_count": 31,
   "metadata": {},
   "outputs": [
    {
     "name": "stdout",
     "output_type": "stream",
     "text": [
      "Dragons vs Wolves\n",
      "Dragons vs Pandas\n",
      "Dragons vs Unicorns\n",
      "\n",
      "Wolves vs Dragons\n",
      "Wolves vs Pandas\n",
      "Wolves vs Unicorns\n",
      "\n",
      "Pandas vs Dragons\n",
      "Pandas vs Wolves\n",
      "Pandas vs Unicorns\n",
      "\n",
      "Unicorns vs Dragons\n",
      "Unicorns vs Wolves\n",
      "Unicorns vs Pandas\n",
      "\n"
     ]
    }
   ],
   "source": [
    "# another practical example of nested loops:\n",
    "teams = [ 'Dragons', 'Wolves', 'Pandas', 'Unicorns']\n",
    "for home_team in teams:\n",
    "    for away_team in teams:\n",
    "        # if home_team == 'Pandas' and away_team == 'Wolves':\n",
    "        #    teams.remove('Unicorns') # modifying the list while iterating can change the intended no. of iterations [1]\n",
    "        if home_team != away_team:\n",
    "            print(home_team + \" vs \" + away_team)\n",
    "    print() # empty line for better readability\n",
    "\n",
    "# [1] means 'teams' is only refrencing the list, not creating a new list, so changes will be reflected in the original list\n",
    "# fix: to avoid this issue, we can create a copy of the list and iterate over the copy"
   ]
  },
  {
   "cell_type": "code",
   "execution_count": 32,
   "metadata": {},
   "outputs": [
    {
     "name": "stdout",
     "output_type": "stream",
     "text": [
      "[0, 1, 2, 3, 4, 5, 6, 7, 8, 9]\n",
      "\n",
      "evens: [0, 2, 4, 6, 8]\n",
      "odds: [1, 3, 5, 7, 9]\n"
     ]
    }
   ],
   "source": [
    "# using conditional 'list comprehension':\n",
    "numbers = [x for x in range(10)]\n",
    "print(numbers, end=\"\\n\\n\")\n",
    "\n",
    "even_numbers = [x for x in range(10) if x % 2 == 0]\n",
    "odd_numbers = [x for x in range(10) if x % 2 == 1]\n",
    "print(\"evens:\", even_numbers)\n",
    "print(\"odds:\", odd_numbers)\n",
    "\n",
    "# note: 'list comprehension' means creating a list of items (based on an existing list or range)"
   ]
  },
  {
   "cell_type": "code",
   "execution_count": 33,
   "metadata": {},
   "outputs": [
    {
     "name": "stdout",
     "output_type": "stream",
     "text": [
      "N^2 numbers: ['1^2: 1', '2^2: 4', '3^2: 9', '4^2: 16', '5^2: 25']\n",
      "N^3 numbers: ['1^3: 1', '2^3: 8', '3^3: 27', '4^3: 64', '5^3: 125']\n",
      "N^4 numbers: ['1^4: 1', '2^4: 16', '3^4: 81', '4^4: 256', '5^4: 625']\n"
     ]
    }
   ],
   "source": [
    "# use-case of nested 'list comprehension' & 'enumerate()' function:\n",
    "lists = []\n",
    "\n",
    "for i in range(2, 5):\n",
    "    lists.append([f\"{x}^{i}: {x ** i}\" for x in range(1, 6)]) # list comprehension\n",
    "\n",
    "for i, _list in enumerate(lists, start=2):\n",
    "    print(f\"N^{i} numbers:\", _list)\n",
    "\n",
    "# note: to iterate over a sequence along with nested-lists in same loop, we used 'enumerate()'\n",
    "# tip: we can also use 'zip()' to iterate over multiple objects in same loop:\n",
    "# e.g. zip(range(2, n), lists), n = 5 in this case\n",
    "\n",
    "# note: always avoid 'shadowing' the built-in class names by using them as variable names:\n",
    "# e.g. '_list' instead of 'list'"
   ]
  },
  {
   "cell_type": "code",
   "execution_count": 34,
   "metadata": {},
   "outputs": [
    {
     "name": "stdout",
     "output_type": "stream",
     "text": [
      "squares:  [1, 4, 9, 16]\n",
      "powers:  [10, 400, 27000, 2560000, 312500000]\n"
     ]
    }
   ],
   "source": [
    "# powerful usage of 'map()' & 'lambda' (aka anonymous) functions:\n",
    "sqrs_of_numbers = map(lambda x: x * x, [1, 2, 3, 4]) # OR lambda x: x ** 2\n",
    "\n",
    "print(\"squares: \", list(sqrs_of_numbers))\n",
    "\n",
    "# using built-in functions with 'map()' function:\n",
    "bases=[10, 20, 30, 40, 50]\n",
    "index=[1, 2, 3, 4, 5]\n",
    "\n",
    "print(\"powers: \", list(map(pow, bases, index)))\n",
    "\n",
    "# reference: https://www.tutorialsteacher.com/python/python-map-function"
   ]
  },
  {
   "cell_type": "code",
   "execution_count": 35,
   "metadata": {},
   "outputs": [
    {
     "name": "stdout",
     "output_type": "stream",
     "text": [
      "even numbers:  [2, 4, 6, 8, 10]\n",
      "even squares:  [4, 16, 36, 64, 100]\n"
     ]
    }
   ],
   "source": [
    "# using 'filter()' function to filter out the elements based on the condition:\n",
    "numbers = [1, 2, 3, 4, 5, 6, 7, 8, 9, 10]\n",
    "even_numbers = list(filter(lambda x: x % 2 == 0, numbers)) # filtering out the even numbers\n",
    "\n",
    "print(\"even numbers: \", even_numbers)\n",
    "\n",
    "# combining 'map()' & 'filter()' functions:\n",
    "even_squares = list(map(lambda x: x ** 2, filter(lambda x: x % 2 == 0, numbers))) # from original list\n",
    "# even_squares = list(map(lambda x: x ** 2, even_numbers)) # from filtered list\n",
    "\n",
    "print(\"even squares: \", even_squares)\n",
    "\n",
    "# note: filter() needs to be combined with list() or other class objects\n",
    "# reason: filter() returns an iterator which is not directly iterable\n",
    "\n",
    "# observation: in general, using 'comprehension' (if possible) is more efficient than using 'map()' & 'filter()'"
   ]
  },
  {
   "cell_type": "code",
   "execution_count": 36,
   "metadata": {},
   "outputs": [
    {
     "name": "stdout",
     "output_type": "stream",
     "text": [
      "even_tuples: ((2, '2'), (4, '4'))\n",
      "odd_tuples: ((1, '1'), (3, '3'), (5, '5'))\n"
     ]
    }
   ],
   "source": [
    "# we can also do a 'tuple comprehension':\n",
    "\n",
    "even_tuples = tuple((i, v) for i, v in enumerate('12345', 1) if i % 2 == 0) # generating from string\n",
    "print('even_tuples:', even_tuples)\n",
    "\n",
    "odd_tuples = tuple((i, str(i)) for i in [1, 2, 3, 4, 5] if i % 2 == 1) # generating from list\n",
    "print('odd_tuples:', odd_tuples)\n",
    "\n",
    "# note: 'comprehension' can also be used with 'sets' & 'dictionaries'"
   ]
  },
  {
   "cell_type": "code",
   "execution_count": 37,
   "metadata": {},
   "outputs": [
    {
     "name": "stdout",
     "output_type": "stream",
     "text": [
      "helloworld\n"
     ]
    }
   ],
   "source": [
    "# indirect 'string comprehension' example:\n",
    "\n",
    "input_string = \"hello 1234!@# world\"\n",
    "\n",
    "result = \"\".join([char for char in input_string if char.isalpha()])\n",
    "# result = \"\".join(char for char in input_string if char.isalpha()) # same as above\n",
    "\n",
    "print(result)\n",
    "\n",
    "# note: we can't use 'comprehension' directly on strings, so we convert it to 'list' first"
   ]
  },
  {
   "cell_type": "code",
   "execution_count": 38,
   "metadata": {},
   "outputs": [
    {
     "name": "stdout",
     "output_type": "stream",
     "text": [
      "Hi Taylor\n",
      "Hi Luisa\n",
      "Hi Jamaal\n",
      "Hi Eli\n",
      "---Welcome aboard!---\n",
      "Hi T\n",
      "Hi a\n",
      "Hi y\n",
      "Hi l\n",
      "Hi o\n",
      "Hi r\n",
      "---Welcome aboard!---\n",
      "Hi Taylor\n",
      "---Welcome aboard!---\n"
     ]
    }
   ],
   "source": [
    "# creating generic solution can also introduce ambiguity:\n",
    "def greet_friends(friends):\n",
    "    for friend in friends:\n",
    "        print(\"Hi \" + friend)\n",
    "    print(\"---Welcome aboard!---\")\n",
    "\n",
    "greet_friends(['Taylor', 'Luisa', 'Jamaal', 'Eli']) # passing a list as an argument\n",
    "\n",
    "# what if you wanted to greet a single friend?\n",
    "greet_friends('Taylor') # not intended, but still works since passing a string as an argument is also accepted!\n",
    "greet_friends(['Taylor']) # gives the intended output\n",
    "\n",
    "# key takeaway: using generic solution may seem a bad approach, but sometimes necessary for achieving flexibility"
   ]
  },
  {
   "cell_type": "code",
   "execution_count": 39,
   "metadata": {},
   "outputs": [
    {
     "name": "stdout",
     "output_type": "stream",
     "text": [
      "Factorial called with 4\n",
      "Factorial called with 3\n",
      "Factorial called with 2\n",
      "Factorial called with 1\n",
      "Returning 1\n",
      "Returning 2 for factorial of 2\n",
      "Returning 6 for factorial of 3\n",
      "Returning 24 for factorial of 4\n"
     ]
    },
    {
     "data": {
      "text/plain": [
       "24"
      ]
     },
     "execution_count": 39,
     "metadata": {},
     "output_type": "execute_result"
    }
   ],
   "source": [
    "# debugging the recursive function for calculating factorial of a number:\n",
    "def factorial(n):\n",
    "    print(\"Factorial called with\", n)\n",
    "    if n < 2:\n",
    "       print(\"Returning 1\")\n",
    "       return 1\n",
    "    result = n * factorial(n-1)\n",
    "    print(\"Returning\", result, \"for factorial of\", n)\n",
    "    return result\n",
    "\n",
    "factorial(4)"
   ]
  },
  {
   "cell_type": "code",
   "execution_count": 40,
   "metadata": {},
   "outputs": [
    {
     "name": "stdout",
     "output_type": "stream",
     "text": [
      "True\n",
      "True\n",
      "True\n",
      "False\n",
      "False\n"
     ]
    }
   ],
   "source": [
    "# recursive function to check whether a number is a power of another number:\n",
    "def is_power_of(number, base):\n",
    " # Base case: when number is smaller than base.\n",
    "    if number < base:\n",
    "        # If number is equal to 1, it's a power (base**0).\n",
    "        return number == 1\n",
    "\n",
    "    # Recursive case: keep dividing number by base.\n",
    "    return is_power_of(number / base, base)\n",
    "\n",
    "print(is_power_of(8, 2))     # 8/2 = 4/2 = 2/2 = 1 [True]\n",
    "print(is_power_of(1024, 4))  # 1024/4 = 256/4 = 64/4 = 16/4 = 4/4 = 1 [True]\n",
    "print(is_power_of(64, 4))    # 64/4 = 16/4 = 4/4 = 1 [True]\n",
    "print(is_power_of(70, 10))   # 70/10 = 7, 7/10 = 0.7 [False]\n",
    "print(is_power_of(1024, 10)) # 1024/10 = 102.4 [False]"
   ]
  },
  {
   "cell_type": "code",
   "execution_count": null,
   "metadata": {},
   "outputs": [],
   "source": []
  },
  {
   "cell_type": "markdown",
   "metadata": {},
   "source": [
    "### Additional Learning Material\n",
    "[Understanding Python Data Structures and Memory Management](https://www.linkedin.com/pulse/understanding-python-data-structures-memory-gayathridevi-manojkumar-e0qwc/)"
   ]
  }
 ],
 "metadata": {
  "kernelspec": {
   "display_name": "Python 3",
   "language": "python",
   "name": "python3"
  },
  "language_info": {
   "codemirror_mode": {
    "name": "ipython",
    "version": 3
   },
   "file_extension": ".py",
   "mimetype": "text/x-python",
   "name": "python",
   "nbconvert_exporter": "python",
   "pygments_lexer": "ipython3",
   "version": "3.12.1"
  }
 },
 "nbformat": 4,
 "nbformat_minor": 2
}
