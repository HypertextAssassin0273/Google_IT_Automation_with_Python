{
 "cells": [
  {
   "cell_type": "markdown",
   "metadata": {},
   "source": [
    "### Some Important 'String' Class Operations"
   ]
  },
  {
   "cell_type": "code",
   "execution_count": 37,
   "metadata": {},
   "outputs": [
    {
     "name": "stdout",
     "output_type": "stream",
     "text": [
      "hi/bye hi/bye hi/bye \n"
     ]
    }
   ],
   "source": [
    "# usage of in-built string repetition '*' & concatenation '+' operators:\n",
    "s1 = \"hi\"; s2 = \"bye\"\n",
    "print((s1 + \"/\" + s2 + \" \") * 3) # concatenation & repetition\n",
    "\n",
    "# note: both operations works only with strings, not with other data types\n",
    "# tip: we can use semi-colon ';' to write multiple statements in a single line"
   ]
  },
  {
   "cell_type": "code",
   "execution_count": 38,
   "metadata": {},
   "outputs": [
    {
     "name": "stdout",
     "output_type": "stream",
     "text": [
      "Row Row Row Your Boat.\n",
      "Row Row Row Your Boat.\n",
      "Row Row Row Your Boat.\n",
      "Row Row Row Your Boat.\n",
      "Row Row Row Your Boat.\n",
      "\n"
     ]
    }
   ],
   "source": [
    "# 'string repetition' can use variables as well:\n",
    "def repeat_stuff(stuff, num_repeats=5):\n",
    "    return stuff * num_repeats # string concatenation operation\n",
    "\n",
    "lyrics = repeat_stuff(\"Row \", 3) + \"Your Boat.\\n\"\n",
    "song = repeat_stuff(lyrics) # using default argument for 'num_repeats' (i.e. 5 times)\n",
    "print(song)"
   ]
  },
  {
   "cell_type": "code",
   "execution_count": 39,
   "metadata": {},
   "outputs": [
    {
     "name": "stdout",
     "output_type": "stream",
     "text": [
      "G\n",
      "s\n",
      "ting\n",
      "Earthlings\n",
      "Greetings\n",
      "\n",
      "Earthlings\n",
      "Greetings\n",
      "\n",
      "sgnilhtraE ,sgniteerG\n",
      "Getns atlns\n",
      "snlta snteG\n"
     ]
    }
   ],
   "source": [
    "# slice operations on strings:\n",
    "string1 = \"Greetings, Earthlings\" # size: 20 + 1\n",
    "# print (string1.__len__()) # gives length of the string\n",
    "\n",
    "print(string1[0])   # index 0\n",
    "print(string1[-1])  # last index\n",
    "print(string1[4:8]) # from index 4 to 7\n",
    "print(string1[11:]) # from index 11 to end\n",
    "print(string1[:9])  # from beginning to index 8\n",
    "print() # new line\n",
    "\n",
    "print(string1[-10:]) # counting index 10 from the end till the end\n",
    "print(string1[:-12]) # counting index 12 from the beginning till the end\n",
    "print()\n",
    "\n",
    "print(string1[::-1]) # reverse the string (using 3rd argument as step-size, aka stride)\n",
    "print(string1[::2])  # skip every alternate character (starting from index 0 to end)\n",
    "print(string1[::-2]) # show every alternate character in reverse order"
   ]
  },
  {
   "cell_type": "code",
   "execution_count": 40,
   "metadata": {},
   "outputs": [
    {
     "name": "stdout",
     "output_type": "stream",
     "text": [
      "phone number: (202) 555-1212\n"
     ]
    }
   ],
   "source": [
    "# combine slicing and joining (concatenation) operations on strings:\n",
    "def format_phone(phonenum):\n",
    "    # The first 3 digits are the area code:\n",
    "    area_code = \"(\" + phonenum[:3] + \")\" # slicing the string\n",
    "\n",
    "    # The next 3 digits are the exchange code:\n",
    "    exchange_code = phonenum[3:6] + \"-\"\n",
    "\n",
    "    # The last 4 digits are the line number:\n",
    "    line_number = phonenum[-4:]\n",
    "\n",
    "    return area_code + \" \" + exchange_code + line_number # joining the strings\n",
    "\n",
    "print(\"phone number:\", format_phone(\"2025551212\")) # e.g. (202) 555-1212"
   ]
  },
  {
   "cell_type": "code",
   "execution_count": 41,
   "metadata": {},
   "outputs": [
    {
     "name": "stdout",
     "output_type": "stream",
     "text": [
      "How do you like Python so far?\n"
     ]
    }
   ],
   "source": [
    "# powerful usage of join() method (for joining 'n' number of strings):\n",
    "word1 = \"How\"\n",
    "word2 = \"do\"\n",
    "word3 = \"you\"\n",
    "word4 = \"like\"\n",
    "word5 = \"Python\"\n",
    "word6 = \"so\"\n",
    "word7 = \"far?\"\n",
    "\n",
    "print(' '.join([eval('word'+str(i+1)) for i in range(7)])) # generic solution\n",
    "# print(word1, word2, word3, word4, word5, word6, word7) # hard coded solution\n",
    "\n",
    "# eval(): evaluates the string expression and returns the result\n",
    "# join(): joins the elements of the list with the string"
   ]
  },
  {
   "cell_type": "code",
   "execution_count": 42,
   "metadata": {},
   "outputs": [
    {
     "name": "stdout",
     "output_type": "stream",
     "text": [
      "Counting down to 0: 10,9,8,7,6,5,4,3,2,1,0\n",
      "Counting down to 0: 2,1,0\n",
      "Cannot count down to 0\n"
     ]
    }
   ],
   "source": [
    "# usage of strip() method to remove leading/trailing characters from a string:\n",
    "def countdown(start):\n",
    "    x = start\n",
    "    if x > 0:\n",
    "        return_string = \"Counting down to 0: \"\n",
    "        while x >= 0: # Complete the while loop\n",
    "            return_string+=str(x) # Add the numbers to the \"return_string\"\n",
    "            if x > 0:\n",
    "                return_string += \",\"\n",
    "            x-=1 # Decrement the appropriate variable\n",
    "    else:\n",
    "        return_string = \"Cannot count down to 0\"\n",
    "    return return_string.strip(\",\") # also see: lstrip(), rstrip()\n",
    "\n",
    "\n",
    "print(countdown(10)) # Should be \"Counting down to 0: 10,9,8,7,6,5,4,3,2,1,0\"\n",
    "print(countdown(2)) # Should be \"Counting down to 0: 2,1,0\"\n",
    "print(countdown(0)) # Should be \"Cannot count down to 0\"\n"
   ]
  },
  {
   "cell_type": "code",
   "execution_count": 43,
   "metadata": {},
   "outputs": [
    {
     "name": "stdout",
     "output_type": "stream",
     "text": [
      "This is another example\n",
      "['This', 'is', 'another', 'example']\n"
     ]
    }
   ],
   "source": [
    "# understanding the relationship b/w join() & split() methods of string class:\n",
    "\n",
    "# joining the list elements with space into a single string\n",
    "_string = \" \".join([\"This\", \"is\", \"another\", \"example\"])\n",
    "print(_string)\n",
    "\n",
    "# splitting the string back into list of words\n",
    "words = _string.split()\n",
    "print(words)\n",
    "\n",
    "# note: 'split' takes default delimiter as space, but we can specify any other delimiter"
   ]
  },
  {
   "cell_type": "code",
   "execution_count": 44,
   "metadata": {},
   "outputs": [
    {
     "name": "stdout",
     "output_type": "stream",
     "text": [
      "change_string: one-1 two-2 three-3 four-4 five-5\n",
      "pig_latin:     ellohay owhay reaay ouyay\n"
     ]
    }
   ],
   "source": [
    "# practical use-cases of join() & split() methods:\n",
    "def change_string(given_string):\n",
    "    return \" \".join(e[1:] + \"-\" + e[0] for e in given_string.split())\n",
    "\n",
    "print(\"change_string:\", change_string(\"1one 2two 3three 4four 5five\")) # Should print \"one-1 two-2 three-3 four-4 five-5\"\n",
    "\n",
    "# another example:\n",
    "def pig_latin(text):\n",
    "    return \" \".join(word[1:] + word[0] + \"ay\" for word in text.split())\n",
    "\n",
    "print(f\"{\"pig_latin:\":<14}\", pig_latin(\"hello how are you\")) # Should be \"ellohay owhay reaay ouyay\"\n",
    "# print(f\"{\"pig_latin:\":<14}\", pig_latin(\"programming in python is fun\")) # Should be \"rogrammingpay niay ythonpay siay unfay\""
   ]
  },
  {
   "cell_type": "code",
   "execution_count": 45,
   "metadata": {},
   "outputs": [
    {
     "name": "stdout",
     "output_type": "stream",
     "text": [
      "123\n"
     ]
    }
   ],
   "source": [
    "# use of 'isnumeric()' method for ensuring correct 'type conversion':\n",
    "def convert_string_to_number(_string):\n",
    "    return int(_string) if _string.isnumeric() else None\n",
    "\n",
    "print(convert_string_to_number(\"123\"))\n",
    "\n",
    "# note: 'None' is a special value in Python that represents 'nothing', similar to 'null' in other languages\n",
    "# also see: 'isdigit()', 'isdecimal()', 'isalpha()', 'isalnum()' methods"
   ]
  },
  {
   "cell_type": "code",
   "execution_count": 46,
   "metadata": {},
   "outputs": [
    {
     "name": "stdout",
     "output_type": "stream",
     "text": [
      "count: 2\n"
     ]
    }
   ],
   "source": [
    "# 'count substrings' in a string:\n",
    "def count_substring(_string, _sub_string):\n",
    "    return _string.count(_sub_string)\n",
    "\n",
    "print(\"count:\", count_substring(\"love is love\", \"love\")) # 2"
   ]
  },
  {
   "cell_type": "code",
   "execution_count": 47,
   "metadata": {},
   "outputs": [
    {
     "name": "stdout",
     "output_type": "stream",
     "text": [
      "True\n",
      "True\n",
      "False\n"
     ]
    }
   ],
   "source": [
    "# different techniques for 'checking the presence of a substring' in a string:\n",
    "pets = \"Cats & Dogs\"\n",
    "\n",
    "# using 'in' operator: (most efficient way for current use-case)\n",
    "print(\"Dogs\" in pets) # checks if 'Cats' is present in 'pets'\n",
    "\n",
    "# OR using 'find()' method:\n",
    "print(not pets.find(\"Dogs\") == -1) # returns -1 if substring is not found\n",
    "\n",
    "# OR using index() method:\n",
    "try:\n",
    "    print(pets.index(\"xogs\") != -1) # raises an exception if substring is not found\n",
    "except:\n",
    "    print(False) # handling 'else part' as exception by catching it\n",
    "\n",
    "# note: here, find() & index() methods are similar but find() is more efficient\n",
    "# reason: find() avoids raising an exception, thus saves us from using try-except block"
   ]
  },
  {
   "cell_type": "code",
   "execution_count": 48,
   "metadata": {},
   "outputs": [
    {
     "name": "stdout",
     "output_type": "stream",
     "text": [
      "shahzaib_khan@nu.edu.pk\n"
     ]
    }
   ],
   "source": [
    "# practical use-case for 'checking the presence of a substring' in a string:\n",
    "def __replace_domain(email, old_domain, new_domain): # uses 2 'O(N) operations' (inefficient approach)\n",
    "    if \"@\" + old_domain in email: # O(N) operation\n",
    "        index = email.index(\"@\" + old_domain) # O(N) operation\n",
    "        new_email = email[:index] + \"@\" + new_domain\n",
    "        return new_email\n",
    "    return email\n",
    "\n",
    "# efficient approach (using 'find()' method):\n",
    "def _replace_domain(email, old_domain, new_domain):\n",
    "    index = email.find(\"@\" + old_domain) # O(N) operation\n",
    "    return email if index == -1 else email[:index + 1] + new_domain\n",
    "\n",
    "# even better approach (for current use-case):\n",
    "def replace_domain(email, old_domain, new_domain):\n",
    "    return email.replace(\"@\" + old_domain, \"@\" + new_domain) # O(N) operation\n",
    "\n",
    "print(replace_domain(\"shahzaib_khan@yahoo.com\", \"yahoo.com\", \"nu.edu.pk\"))\n",
    "\n",
    "# tip: for self-assignment safety, you can add optional condition: old_domain != new_domain"
   ]
  },
  {
   "cell_type": "code",
   "execution_count": 49,
   "metadata": {},
   "outputs": [
    {
     "name": "stdout",
     "output_type": "stream",
     "text": [
      "  0 F = -17.78 C\n",
      " 10 F = -12.22 C\n",
      " 20 F =  -6.67 C\n",
      " 30 F =  -1.11 C\n",
      " 40 F =   4.44 C\n",
      " 50 F =  10.00 C\n",
      " 60 F =  15.56 C\n",
      " 70 F =  21.11 C\n",
      " 80 F =  26.67 C\n",
      " 90 F =  32.22 C\n",
      "100 F =  37.78 C\n"
     ]
    }
   ],
   "source": [
    "# powerful usage of formatted strings (aka f-strings):\n",
    "def to_celsius(x):\n",
    "    return (x - 32) * 5 / 9\n",
    "\n",
    "# for x in range(0, 101, 10): # old way\n",
    "#     print(\"{:>3} F | {:>6.2f} C\".format(x, to_celsius(x)))\n",
    "\n",
    "for x in range(0, 101, 10): # much cleaner & readable\n",
    "    print(f\"{x:>3} F = {to_celsius(x):>6.2f} C\")\n",
    "\n",
    "# breakdown for '{:>6.2f}' format specifier:\n",
    "# {} -> placeholder for value\n",
    "# : -> start of format specifier\n",
    "# >6 -> right alignment with 6 spaces\n",
    "# .2f -> 2 decimal places precision (for float)\n",
    "\n",
    "# note: for left alignment, use '<' & for center alignment, use '^'"
   ]
  },
  {
   "cell_type": "code",
   "execution_count": 50,
   "metadata": {},
   "outputs": [
    {
     "name": "stdout",
     "output_type": "stream",
     "text": [
      "1) 1,234,567,890\n",
      "2) 1.234568e+03\n",
      "3) 25.00%\n",
      "4) abc\n",
      "5)   1,234.57\n"
     ]
    }
   ],
   "source": [
    "# some other useful formatting options for 'f-strings':\n",
    "\n",
    "# for comma separated numbers, use ','\n",
    "print(f\"1) {1234567890:,d}\") # 1,234,567,890\n",
    "\n",
    "# for scientific notation, use 'e' or 'E'\n",
    "print(f\"2) {1234.5678:e}\") # 1.234568e+03\n",
    "\n",
    "# for percentage representation, use '%'\n",
    "print(f\"3) {0.25:.2%}\") # 25.00%\n",
    "\n",
    "# can be used for string precision as well\n",
    "print(f\"4) {\"abcdef\":.3s}\") # abc\n",
    "\n",
    "# multiple formatting options can be combined together\n",
    "print(f\"5) {1234.5678:>10,.2f}\") # __1,234.57\n",
    "# since '>' is default alignment, we can simply use: '{1234.5678:10,.2f}'\n",
    "\n",
    "# breakdown for '{:>10,.2f}' format specifier:\n",
    "# {} -> placeholder for value\n",
    "# : -> start of format specifier\n",
    "# 10 or >10 -> right alignment with 10 spaces\n",
    "# , -> comma separated numbers (if value is greater than 1000)\n",
    "# .2f -> 2 decimal places precision (for float)"
   ]
  },
  {
   "cell_type": "code",
   "execution_count": 51,
   "metadata": {},
   "outputs": [
    {
     "name": "stdout",
     "output_type": "stream",
     "text": [
      "It's raining cats and dogs\n",
      "She sells seashells by the seashore\n",
      "The weather is nice in May\n",
      "The weather is nice in April\n"
     ]
    }
   ],
   "source": [
    "# usage of 'endswith()' method for checking the ending of a string:\n",
    "def replace_ending(sentence, old, new):\n",
    "    return sentence[:-len(old)] + new if sentence.endswith(old) else sentence\n",
    "\n",
    "# test cases:\n",
    "print(replace_ending(\"It's raining cats and cats\", \"cats\", \"dogs\")) # \"It's raining cats and dogs\"\n",
    "print(replace_ending(\"She sells seashells by the seashore\", \"seashells\", \"donuts\")) # \"She sells seashells by the seashore\"\n",
    "print(replace_ending(\"The weather is nice in May\", \"may\", \"april\")) # \"The weather is nice in May\"\n",
    "print(replace_ending(\"The weather is nice in May\", \"May\", \"April\")) # \"The weather is nice in April\"\n"
   ]
  }
 ],
 "metadata": {
  "kernelspec": {
   "display_name": "Python 3",
   "language": "python",
   "name": "python3"
  },
  "language_info": {
   "codemirror_mode": {
    "name": "ipython",
    "version": 3
   },
   "file_extension": ".py",
   "mimetype": "text/x-python",
   "name": "python",
   "nbconvert_exporter": "python",
   "pygments_lexer": "ipython3",
   "version": "3.12.1"
  }
 },
 "nbformat": 4,
 "nbformat_minor": 2
}
