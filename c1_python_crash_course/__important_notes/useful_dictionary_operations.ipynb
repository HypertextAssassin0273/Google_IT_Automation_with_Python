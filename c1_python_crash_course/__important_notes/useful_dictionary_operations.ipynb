{
 "cells": [
  {
   "cell_type": "markdown",
   "metadata": {},
   "source": [
    "### Some Important 'Dictionary' Class Operations"
   ]
  },
  {
   "cell_type": "code",
   "execution_count": 20,
   "metadata": {},
   "outputs": [
    {
     "name": "stdout",
     "output_type": "stream",
     "text": [
      "{'jpg': 10, 'txt': 14, 'csv': 2, 'py': 23} (print dictionary)\n",
      "14 (print value of key 'txt')\n",
      "2 (print value of key 'csv')\n",
      "None (print value of key 'html')\n",
      "True (check if key 'csv' is in dictionary)\n",
      "False (check if key 'html' is in dictionary)\n",
      "{'jpg': 10, 'txt': 14, 'csv': 2, 'py': 23, 'cfg': 8} (adding a new key-value 'cfg':8)\n",
      "{'jpg': 10, 'txt': 14, 'csv': 3, 'py': 23, 'cfg': 8} (updating value of key 'csv')\n",
      "{'jpg': 10, 'txt': 14, 'csv': 3, 'py': 23} (deleting key 'cfg')\n"
     ]
    }
   ],
   "source": [
    "# basic dictionary operations:\n",
    "file_counts = {\"jpg\":10, \"txt\":14, \"csv\":2, \"py\":23}\n",
    "\n",
    "print(file_counts, \"(print dictionary)\")\n",
    "print(file_counts[\"txt\"], \"(print value of key 'txt')\")\n",
    "\n",
    "print(file_counts.get(\"csv\"), \"(print value of key 'csv')\")\n",
    "print(file_counts.get(\"html\"), \"(print value of key 'html')\")\n",
    "\n",
    "print(\"csv\" in file_counts, \"(check if key 'csv' is in dictionary)\")\n",
    "print(\"html\" in file_counts, \"(check if key 'html' is in dictionary)\")\n",
    "\n",
    "file_counts[\"cfg\"] = 8 #add a new key-value pair to the dictionary\n",
    "print(file_counts, \"(adding a new key-value 'cfg':8)\")\n",
    "\n",
    "file_counts[\"csv\"] = 3 #update the value of the key \"csv\"\n",
    "print(file_counts, \"(updating value of key 'csv')\")\n",
    "\n",
    "del file_counts[\"cfg\"] #delete the key-value pair with key \"cfg\"\n",
    "print(file_counts, \"(deleting key 'cfg')\")"
   ]
  },
  {
   "cell_type": "code",
   "execution_count": null,
   "metadata": {},
   "outputs": [],
   "source": []
  }
 ],
 "metadata": {
  "kernelspec": {
   "display_name": "Python 3",
   "language": "python",
   "name": "python3"
  },
  "language_info": {
   "codemirror_mode": {
    "name": "ipython",
    "version": 3
   },
   "file_extension": ".py",
   "mimetype": "text/x-python",
   "name": "python",
   "nbconvert_exporter": "python",
   "pygments_lexer": "ipython3",
   "version": "3.12.1"
  }
 },
 "nbformat": 4,
 "nbformat_minor": 2
}
