{
 "cells": [
  {
   "cell_type": "markdown",
   "metadata": {},
   "source": [
    "### Some Important 'Dictionary' Class Operations"
   ]
  },
  {
   "cell_type": "code",
   "execution_count": 58,
   "metadata": {},
   "outputs": [
    {
     "name": "stdout",
     "output_type": "stream",
     "text": [
      "{'jpg': 10, 'txt': 14, 'csv': 2, 'py': 23} (print dictionary)\n",
      "14 (print value of key 'txt')\n",
      "2 (print value of key 'csv')\n",
      "None (print value of key 'html')\n",
      "True (check if key 'csv' is in dictionary)\n",
      "False (check if key 'html' is in dictionary)\n",
      "{'jpg': 10, 'txt': 14, 'csv': 2, 'py': 23, 'cfg': 8} (adding a new key-value 'cfg':8)\n",
      "{'jpg': 10, 'txt': 14, 'csv': 3, 'py': 23, 'cfg': 8} (updating value of key 'csv')\n",
      "{'jpg': 10, 'txt': 14, 'csv': 3, 'py': 23} (deleting key 'cfg')\n"
     ]
    }
   ],
   "source": [
    "# basic dictionary operations:\n",
    "file_counts = {\"jpg\":10, \"txt\":14, \"csv\":2, \"py\":23}\n",
    "\n",
    "print(file_counts, \"(print dictionary)\")\n",
    "print(file_counts[\"txt\"], \"(print value of key 'txt')\")\n",
    "\n",
    "print(file_counts.get(\"csv\"), \"(print value of key 'csv')\")\n",
    "print(file_counts.get(\"html\"), \"(print value of key 'html')\")\n",
    "\n",
    "print(\"csv\" in file_counts, \"(check if key 'csv' is in dictionary)\")\n",
    "print(\"html\" in file_counts, \"(check if key 'html' is in dictionary)\")\n",
    "\n",
    "file_counts[\"cfg\"] = 8 #add a new key-value pair to the dictionary\n",
    "print(file_counts, \"(adding a new key-value 'cfg':8)\")\n",
    "\n",
    "file_counts[\"csv\"] = 3 #update the value of the key \"csv\"\n",
    "print(file_counts, \"(updating value of key 'csv')\")\n",
    "\n",
    "del file_counts[\"cfg\"] #delete the key-value pair with key \"cfg\"\n",
    "print(file_counts, \"(deleting key 'cfg')\")\n",
    "\n",
    "# side-note: only 'immutable objects' can be used as 'keys' in a dictionary (e.g. numbers, booleans, strings, tuples)"
   ]
  },
  {
   "cell_type": "code",
   "execution_count": 59,
   "metadata": {},
   "outputs": [
    {
     "name": "stdout",
     "output_type": "stream",
     "text": [
      "jpg\n",
      "txt\n",
      "csv\n",
      "py\n",
      "\n",
      "10\n",
      "14\n",
      "3\n",
      "23\n",
      "\n",
      "there are 10 files with the extension jpg\n",
      "there are 14 files with the extension txt\n",
      "there are 3 files with the extension csv\n",
      "there are 23 files with the extension py\n"
     ]
    }
   ],
   "source": [
    "# different ways to iterate over a dictionary:\n",
    "for extension in file_counts: # using keys only (alt: file_counts.keys())\n",
    "    print(extension)\n",
    "print() # newline\n",
    "\n",
    "for amount in file_counts.values(): # using values only\n",
    "    print(amount)\n",
    "print() # newline\n",
    "\n",
    "for ext, amount in file_counts.items(): # using key-value pairs\n",
    "   print(f\"there are {amount} files with the extension {ext}\")"
   ]
  },
  {
   "cell_type": "code",
   "execution_count": 60,
   "metadata": {},
   "outputs": [
    {
     "name": "stdout",
     "output_type": "stream",
     "text": [
      "dict_keys(['jpg', 'txt', 'csv', 'py'])\n",
      "dict_values([10, 14, 3, 23])\n",
      "dict_items([('jpg', 10), ('txt', 14), ('csv', 3), ('py', 23)])\n"
     ]
    }
   ],
   "source": [
    "# returning different view-objects of a dictionary:\n",
    "print(file_counts.keys()) # keys view\n",
    "\n",
    "print(file_counts.values()) # values view\n",
    "\n",
    "print(file_counts.items()) # items (key-value pairs) view"
   ]
  },
  {
   "cell_type": "code",
   "execution_count": 61,
   "metadata": {},
   "outputs": [
    {
     "name": "stdout",
     "output_type": "stream",
     "text": [
      "{'a': 5}\n",
      "{'t': 2, 'e': 1, 'n': 2, 'a': 1}\n",
      "{'a': 2, ' ': 7, 'l': 3, 'o': 3, 'n': 2, 'g': 2, 's': 2, 't': 5, 'r': 2, 'i': 2, 'w': 1, 'h': 1, 'f': 1, 'e': 2}\n"
     ]
    }
   ],
   "source": [
    "# counting letters in a string using a dictionary:\n",
    "def count_letters(text): # efficient: takes O(n) time to complete\n",
    "    result = {}\n",
    "    for letter in text: # O(n)\n",
    "        if letter not in result: # O(1)\n",
    "            result[letter] = 0\n",
    "        result[letter] += 1\n",
    "    return result\n",
    "\n",
    "# now using 'dictionary comprehension' to do the same thing:\n",
    "def _count_letters(text):\n",
    "    return {letter: text.count(letter) for letter in text} # expensive: takes O(n^2) time to complete\n",
    "\n",
    "# test cases:\n",
    "print(count_letters(\"aaaaa\"))\n",
    "# print(_count_letters(\"aaaaa\"))\n",
    "\n",
    "print(count_letters(\"tenant\"))\n",
    "# print(_count_letters(\"tenant\"))\n",
    "\n",
    "print(count_letters(\"a long string with a lot of letters\"))\n",
    "# print(_count_letters(\"a long string with a lot of letters\"))\n",
    "\n",
    "\n",
    "# observation:\n",
    "# using traditional loops, we were able to utilize 'dictionary' as an actual 'hash-map'\n",
    "# whereas in 'dictionary comprehension', we were forced to use 'string method'\n",
    "\n",
    "# conclusion: traditional loops are more efficient when dealing with dictionaries"
   ]
  },
  {
   "cell_type": "code",
   "execution_count": 70,
   "metadata": {},
   "outputs": [
    {
     "name": "stdout",
     "output_type": "stream",
     "text": [
      "['Muhammad Ali', 'Amir Ali', 'Malik Ali', 'Ram Devi', 'Amaira Devi', 'Feng Chen', 'Li Chen']\n"
     ]
    }
   ],
   "source": [
    "# expanding dictionary values as 'cross-product' of keys:\n",
    "def list_full_names(employee_dictionary):\n",
    "    full_names = []\n",
    "    for last_name, first_names in employee_dictionary.items():\n",
    "        for first_name in first_names:\n",
    "            full_names.append(first_name + \" \" + last_name)\n",
    "    return full_names\n",
    "\n",
    "print(list_full_names({\"Ali\": [\"Muhammad\", \"Amir\", \"Malik\"], \"Devi\": [\"Ram\", \"Amaira\"], \"Chen\": [\"Feng\", \"Li\"]}))\n",
    "# Should print ['Muhammad Ali', 'Amir Ali', 'Malik Ali', 'Ram Devi', 'Amaira Devi', 'Feng Chen', 'Li Chen']"
   ]
  },
  {
   "cell_type": "code",
   "execution_count": 1,
   "metadata": {},
   "outputs": [
    {
     "name": "stdout",
     "output_type": "stream",
     "text": [
      "{'IDE HDDs': ['Hard Drives', 'PC Parts'], 'SCSI HDDs': ['Hard Drives', 'PC Parts'], 'High-end video cards': ['PC Parts', 'Video Cards'], 'Basic video cards': ['PC Parts', 'Video Cards']}\n"
     ]
    }
   ],
   "source": [
    "# inverting a dictionary (by swapping keys with values):\n",
    "def invert_resource_dict(resource_dictionary):\n",
    "    new_dictionary = {}\n",
    "    for resource_group, resources in resource_dictionary.items():\n",
    "        for resource in resources:\n",
    "            # traditional way (requires 'if-else' block to avoid error):\n",
    "            # if resource in new_dictionary:\n",
    "            #     new_dictionary[resource].append(resource_group) # append to existing resource_group list\n",
    "            # else:\n",
    "            #     new_dictionary[resource] = [resource_group] # create a new resource_group list\n",
    "\n",
    "            # concise way (avoids error by using 'default' value in 'get' method):\n",
    "            new_dictionary[resource] = new_dictionary.get(resource, []) + [resource_group] # appends or creates a new list\n",
    "    \n",
    "    return new_dictionary\n",
    "\n",
    "# test case:\n",
    "print(invert_resource_dict({\"Hard Drives\": [\"IDE HDDs\", \"SCSI HDDs\"],\n",
    "                            \"PC Parts\":  [\"IDE HDDs\", \"SCSI HDDs\", \"High-end video cards\", \"Basic video cards\"], \n",
    "                            \"Video Cards\": [\"High-end video cards\", \"Basic video cards\"]}))\n",
    "# Should print {'IDE HDDs': ['Hard Drives', 'PC Parts'], 'SCSI HDDs': ['Hard Drives', 'PC Parts'], 'High-end video cards': ['PC Parts', 'Video Cards'], 'Basic video cards': ['PC Parts', 'Video Cards']}\n"
   ]
  },
  {
   "cell_type": "code",
   "execution_count": 82,
   "metadata": {},
   "outputs": [
    {
     "name": "stdout",
     "output_type": "stream",
     "text": [
      "Tobias\n",
      "\n",
      "child1\n",
      "name: Emil\n",
      "year: 2004\n",
      "\n",
      "child2\n",
      "name: Tobias\n",
      "year: 2007\n",
      "\n",
      "child3\n",
      "name: Linus\n",
      "year: 2011\n"
     ]
    }
   ],
   "source": [
    "# nested dictionaries example (similar to JSON objects): \n",
    "child1 = {\n",
    "    \"name\" : \"Emil\",\n",
    "    \"year\" : 2004\n",
    "}\n",
    "child2 = {\n",
    "    \"name\" : \"Tobias\",\n",
    "    \"year\" : 2007\n",
    "}\n",
    "child3 = {\n",
    "    \"name\" : \"Linus\", \n",
    "    \"year\" : 2011}\n",
    "\n",
    "myfamily = {\n",
    "    \"child1\" : child1, \n",
    "    \"child2\" : child2, \n",
    "    \"child3\" : child3\n",
    "}\n",
    "\n",
    "# accessing nested dictionaries:\n",
    "print(myfamily[\"child2\"][\"name\"])\n",
    "\n",
    "# iterating over nested dictionaries:\n",
    "for x, obj in myfamily.items():\n",
    "    print('\\n' + x)\n",
    "    for y in obj:\n",
    "        print(y + ':', obj[y])"
   ]
  }
 ],
 "metadata": {
  "kernelspec": {
   "display_name": "Python 3",
   "language": "python",
   "name": "python3"
  },
  "language_info": {
   "codemirror_mode": {
    "name": "ipython",
    "version": 3
   },
   "file_extension": ".py",
   "mimetype": "text/x-python",
   "name": "python",
   "nbconvert_exporter": "python",
   "pygments_lexer": "ipython3",
   "version": "3.12.1"
  }
 },
 "nbformat": 4,
 "nbformat_minor": 2
}
