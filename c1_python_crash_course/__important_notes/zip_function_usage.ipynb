{
 "cells": [
  {
   "cell_type": "markdown",
   "metadata": {},
   "source": [
    "### Understanding the Utility & Usage of 'zip' Function"
   ]
  },
  {
   "cell_type": "code",
   "execution_count": 22,
   "metadata": {},
   "outputs": [
    {
     "name": "stdout",
     "output_type": "stream",
     "text": [
      "<zip object at 0x0000025F2C115080>\n",
      "[(1, 'One', 'I'), (2, 'Two', 'II'), (3, 'Three', 'III')]\n"
     ]
    }
   ],
   "source": [
    "# combining multiple lists using 'zip()' function:\n",
    "numbers = [1,2,3]\n",
    "str_numbers = ['One','Two','Three', 'Four']\n",
    "roman_numbers = ['I','II','III','IV','V']\n",
    "\n",
    "result = zip(numbers, str_numbers, roman_numbers)\n",
    "\n",
    "print(result)\n",
    "print(list(result))\n",
    "\n",
    "# note: zip() stops combining when the shortest iterable is exhausted, which in this case is 'numbers'"
   ]
  },
  {
   "cell_type": "code",
   "execution_count": 20,
   "metadata": {},
   "outputs": [
    {
     "name": "stdout",
     "output_type": "stream",
     "text": [
      "sales:2500   rate:15  GST:375.0\n",
      "sales:15000  rate:10  GST:1500.0\n",
      "sales:7800   rate:8   GST:624.0\n",
      "sales:5000   rate:10  GST:500.0\n"
     ]
    }
   ],
   "source": [
    "# practical example for using zip() function:\n",
    "sales = [2500, 15000, 7800, 5000]\n",
    "rates = [15, 10, 8, 10]\n",
    "\n",
    "for s, r in zip(sales, rates):\n",
    "    gst = s * r / 100\n",
    "    print(f\"sales:{s:<6} rate:{r:<3} GST:{gst}\")\n",
    "\n",
    "# note: here, we were able to calculate GST for each sales and rate pair using zip() function"
   ]
  },
  {
   "cell_type": "code",
   "execution_count": 40,
   "metadata": {},
   "outputs": [
    {
     "name": "stdout",
     "output_type": "stream",
     "text": [
      "[(1, 'India', 'Kohli'), (2, 'England', 'Root'), (3, 'NZ', 'Williaamson'), (4, 'Aus', 'Smith')]\n",
      "{(3, 'NZ', 'Williaamson'), (4, 'Aus', 'Smith'), (1, 'India', 'Kohli'), (2, 'England', 'Root')}\n",
      "{1: ('India', 'Kohli'), 2: ('England', 'Root'), 3: ('NZ', 'Williaamson'), 4: ('Aus', 'Smith')}\n"
     ]
    }
   ],
   "source": [
    "# understanding different ways to convert 'zip object':\n",
    "positions = [1, 2, 3, 4]\n",
    "teams = [\"India\", \"England\", \"NZ\", \"Aus\"]\n",
    "captains = [\"Kohli\",\"Root\",\"Williaamson\", \"Smith\"]\n",
    "\n",
    "ziplist = list(zip(positions, teams, captains)) # as list of (ordered) tuples\n",
    "print(ziplist)\n",
    "\n",
    "zipset = set(zip(positions, teams, captains)) # as set of (unique, unordered) tuples \n",
    "print(zipset)\n",
    "\n",
    "zipdict = dict(zip(positions, zip(teams, captains))) # as dictionary of (ordered) key-value pairs\n",
    "print(zipdict)\n",
    "\n",
    "#note: it is better to directly use zip object in required class conversion\n",
    "#reason: zip object is exhausted after class conversion, making it unusable for further operations"
   ]
  },
  {
   "cell_type": "markdown",
   "metadata": {},
   "source": [
    "### Reference Material Link\n",
    "[Understand Python zip() method @TutorialsTeacher](https://www.tutorialsteacher.com/python/zip-method)"
   ]
  }
 ],
 "metadata": {
  "kernelspec": {
   "display_name": "Python 3",
   "language": "python",
   "name": "python3"
  },
  "language_info": {
   "codemirror_mode": {
    "name": "ipython",
    "version": 3
   },
   "file_extension": ".py",
   "mimetype": "text/x-python",
   "name": "python",
   "nbconvert_exporter": "python",
   "pygments_lexer": "ipython3",
   "version": "3.12.1"
  }
 },
 "nbformat": 4,
 "nbformat_minor": 2
}
