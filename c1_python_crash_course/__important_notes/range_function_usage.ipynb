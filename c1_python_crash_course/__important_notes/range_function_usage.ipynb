{
 "cells": [
  {
   "cell_type": "markdown",
   "metadata": {},
   "source": [
    "### Understanding Usage of 'range' Function in Different Scenarios"
   ]
  },
  {
   "cell_type": "code",
   "execution_count": 8,
   "metadata": {},
   "outputs": [
    {
     "name": "stdout",
     "output_type": "stream",
     "text": [
      "0 1 2 3 4 5 6 7 8 9 "
     ]
    }
   ],
   "source": [
    "# print sequence of numbers from 0 to 9 but on same line:\n",
    "for i in range(10):\n",
    "    print(i, end=' ') # 'end' indicates the character to be printed at the end of print statement"
   ]
  },
  {
   "cell_type": "code",
   "execution_count": 9,
   "metadata": {},
   "outputs": [
    {
     "name": "stdout",
     "output_type": "stream",
     "text": [
      "Sum: 45, Product: 362880\n"
     ]
    }
   ],
   "source": [
    "# print sum and product of numbers from 1 to 9:\n",
    "product = 1; sum = 0\n",
    "for n in range(1, 10):\n",
    "    sum += n\n",
    "    product *= n\n",
    "\n",
    "# using 'formatted string' to print output\n",
    "print(f\"Sum: {sum}, Product: {product}\")"
   ]
  },
  {
   "cell_type": "code",
   "execution_count": 10,
   "metadata": {},
   "outputs": [
    {
     "name": "stdout",
     "output_type": "stream",
     "text": [
      "0 2 4 6 8 10 "
     ]
    }
   ],
   "source": [
    "# print even numbers up to 10 (using 'step' parameter in range function):\n",
    "for i in range(0, 10 + 1, 2): # e.g. start=0, stop=10, step=2 (increment)\n",
    "    print(i, end=' ')"
   ]
  }
 ],
 "metadata": {
  "kernelspec": {
   "display_name": "Python 3",
   "language": "python",
   "name": "python3"
  },
  "language_info": {
   "codemirror_mode": {
    "name": "ipython",
    "version": 3
   },
   "file_extension": ".py",
   "mimetype": "text/x-python",
   "name": "python",
   "nbconvert_exporter": "python",
   "pygments_lexer": "ipython3",
   "version": "3.12.1"
  }
 },
 "nbformat": 4,
 "nbformat_minor": 2
}
