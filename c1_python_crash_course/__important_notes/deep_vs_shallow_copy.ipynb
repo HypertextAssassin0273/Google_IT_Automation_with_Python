{
 "cells": [
  {
   "cell_type": "markdown",
   "metadata": {},
   "source": [
    "## Understanding Deep Copy And Shallow Copy"
   ]
  },
  {
   "cell_type": "code",
   "execution_count": 1,
   "metadata": {},
   "outputs": [],
   "source": [
    "import copy # module (for deep copy)"
   ]
  },
  {
   "cell_type": "code",
   "execution_count": 2,
   "metadata": {},
   "outputs": [
    {
     "name": "stdout",
     "output_type": "stream",
     "text": [
      "Original List:  [1, 2, ['a', 'b', 'c'], 3]  @ 2051201958656\n",
      "Copied List:  [1, 2, ['a', 'b', 'c'], 3]  @ 2051201965248\n"
     ]
    }
   ],
   "source": [
    "org_list = [1, 2, ['a', 'b', 'c'], 3]\n",
    "\n",
    "cpy_list = org_list[:] # shallow copy\n",
    "# cpy_list = org_list.copy() # another method for shallow copy\n",
    "\n",
    "cpy_list = copy.deepcopy(org_list) # deep copy (recursively copies all the elements)\n",
    "\n",
    "# cpy_list = eval(repr(org_list)) # shorthand for deep copy without using copy module\n",
    "# note: not recommended for production code\n",
    "\n",
    "print('Original List: ', org_list, ' @', id(org_list))\n",
    "print('Copied List: ', cpy_list, ' @', id(cpy_list))"
   ]
  },
  {
   "cell_type": "code",
   "execution_count": 3,
   "metadata": {},
   "outputs": [
    {
     "name": "stdout",
     "output_type": "stream",
     "text": [
      "Inner List in Original:  ['X', 'b', 'c']  @ 2051201918080\n",
      "Inner List in Deep Copied:  ['a', 'b', 'c']  @ 2051201961280\n"
     ]
    }
   ],
   "source": [
    "org_list[2][0] = 'X'\n",
    "\n",
    "print('Inner List in Original: ', org_list[2], ' @', id(org_list[2]))\n",
    "print('Inner List in Deep Copied: ', cpy_list[2], ' @', id(cpy_list[2]))\n",
    "\n",
    "# note: applying operations on nested lists doesn't affect the 'deep copied' list"
   ]
  },
  {
   "cell_type": "markdown",
   "metadata": {},
   "source": [
    "### Additional related material\n",
    "\n",
    "[How to Copy a List in Python (5 Techniques with Examples)](https://www.dataquest.io/blog/python-copy-list/)\n",
    "\n",
    "[How to Create Deepcopy Of Dictionary Without Using Copy Module in Python](https://www.geeksforgeeks.org/python-create-deepcopy-of-dictionary-without-using-copy-module/)"
   ]
  }
 ],
 "metadata": {
  "kernelspec": {
   "display_name": "Python 3",
   "language": "python",
   "name": "python3"
  },
  "language_info": {
   "codemirror_mode": {
    "name": "ipython",
    "version": 3
   },
   "file_extension": ".py",
   "mimetype": "text/x-python",
   "name": "python",
   "nbconvert_exporter": "python",
   "pygments_lexer": "ipython3",
   "version": "3.12.1"
  }
 },
 "nbformat": 4,
 "nbformat_minor": 2
}
