{
 "cells": [
  {
   "cell_type": "markdown",
   "metadata": {},
   "source": [
    "# Working with CSV Files"
   ]
  },
  {
   "cell_type": "code",
   "execution_count": 22,
   "metadata": {},
   "outputs": [],
   "source": [
    "import csv"
   ]
  },
  {
   "cell_type": "code",
   "execution_count": 23,
   "metadata": {},
   "outputs": [],
   "source": [
    "# create a new csv file (as '.txt' file):\n",
    "with open('../__assets/csv_file.txt', 'w') as file:\n",
    "    # initialize the writer (iterator):\n",
    "    csv_writer = csv.writer(file)\n",
    "    \n",
    "    # manually dump the dummy data:\n",
    "    csv_writer.writerow(['Name', 'Phone', 'Role'])\n",
    "    csv_writer.writerow(['John Doe', '1234567890', 'Software Engineer'])\n",
    "    csv_writer.writerow(['Jane Doe', '0987654321', 'Data Scientist'])\n",
    "    csv_writer.writerow(['Alice', '1234567890', 'IT Support'])"
   ]
  },
  {
   "cell_type": "code",
   "execution_count": 24,
   "metadata": {},
   "outputs": [],
   "source": [
    "# create a new csv file with pre-defined data (as '.csv' file):\n",
    "hosts = [['workstation.local', '192.168.0.1'], \n",
    "         ['webserver.cloud', '10.2.5.6'], \n",
    "         ['mailserver.cloud', '88.77.44.11']]\n",
    "\n",
    "with open('../__assets/hosts.csv', 'w') as file:\n",
    "    csv_writer = csv.writer(file)\n",
    "    csv_writer.writerow(['host', 'ip']) # adding field names as 'header'\n",
    "    csv_writer.writerows(hosts)\n",
    "\n",
    "# note: here, we wrote 'multiple rows' at once since we have 'pre-defined data' as 'hosts'"
   ]
  },
  {
   "cell_type": "code",
   "execution_count": 21,
   "metadata": {},
   "outputs": [
    {
     "name": "stdout",
     "output_type": "stream",
     "text": [
      "Name       Phone        Role\n",
      "John Doe   1234567890   Software Engineer\n",
      "Jane Doe   0987654321   Data Scientist\n",
      "Alice      1234567890   IT Support\n",
      "\n",
      "Name: John Doe   Phone: 1234567890   Role: Software Engineer\n",
      "Name: Jane Doe   Phone: 0987654321   Role: Data Scientist\n",
      "Name: Alice      Phone: 1234567890   Role: IT Support\n"
     ]
    }
   ],
   "source": [
    "# read csv file (in different formats):\n",
    "with open('../__assets/csv_file.txt') as file:\n",
    "    ##              FORMAT: 1              ##\n",
    "    # initialize the reader (iterator):\n",
    "    csv_reader = csv.reader(file)\n",
    "\n",
    "    # print first row as header:\n",
    "    header = next(csv_reader)\n",
    "    print(f'{header[0]:<10} {header[1]:<12} {header[2]}') # using 'list indexing'\n",
    "\n",
    "    # print remaining rows:\n",
    "    for name, phone, role in csv_reader:\n",
    "        print(f'{name:<10} {phone:<12} {role}') # using 'tuple unpacking'\n",
    "\n",
    "\n",
    "    ##              FORMAT: 2              ##\n",
    "    # extra steps (for this use-case)\n",
    "    file.seek(0) # reset the file pointer\n",
    "    csv_reader = csv.reader(file) # re-initialize the reader\n",
    "    \n",
    "    # ignore the header:\n",
    "    next(csv_reader)\n",
    "\n",
    "    # print remaining rows:\n",
    "    print() # newline\n",
    "    for name, phone, role in csv_reader:\n",
    "        print(f'Name: {name:<10} Phone: {phone:<12} Role: {role}')\n",
    "\n",
    "# note: we can use same operations for '.csv' files as well"
   ]
  },
  {
   "cell_type": "code",
   "execution_count": 16,
   "metadata": {},
   "outputs": [
    {
     "name": "stdout",
     "output_type": "stream",
     "text": [
      "Host: workstation.local    IP: 192.168.0.1\n",
      "Host: webserver.cloud      IP: 10.2.5.6\n",
      "Host: mailserver.cloud     IP: 88.77.44.11\n"
     ]
    }
   ],
   "source": [
    "# read 'csv' file as dictionary:\n",
    "with open('../__assets/hosts.csv') as file:\n",
    "    csv_reader = csv.DictReader(file)\n",
    "    \n",
    "    # print the rows:\n",
    "    for row in csv_reader:\n",
    "        print(f\"Host: {row['host']:20} IP: {row['ip']}\")\n",
    "\n",
    "# note: you can additionally use 'fieldnames' parameter to specify the header if column names are missing\n",
    "# e.g.: csv.DictReader(file, fieldnames=['host', 'ip'])"
   ]
  },
  {
   "cell_type": "code",
   "execution_count": 25,
   "metadata": {},
   "outputs": [],
   "source": [
    "# write csv file (from dictionary):\n",
    "keys = ['name', 'username', 'department']\n",
    "users = [{'name': 'Sol Mansi', 'username': 'solm', 'department': 'IT infrastructure'}, \n",
    "         {'name': 'Lio Nelson', 'username': 'lion', 'department': 'User Experience Research'}, \n",
    "         {'name': 'Charlie Grey', 'username': 'greyc', 'department': 'Development'}]\n",
    "\n",
    "with open('../__assets/users.csv', 'w') as file:\n",
    "    writer = csv.DictWriter(file, fieldnames=keys)\n",
    "    writer.writeheader() # uses keys as header\n",
    "    writer.writerows(users)"
   ]
  }
 ],
 "metadata": {
  "kernelspec": {
   "display_name": "Python 3",
   "language": "python",
   "name": "python3"
  },
  "language_info": {
   "codemirror_mode": {
    "name": "ipython",
    "version": 3
   },
   "file_extension": ".py",
   "mimetype": "text/x-python",
   "name": "python",
   "nbconvert_exporter": "python",
   "pygments_lexer": "ipython3",
   "version": "3.10.12"
  }
 },
 "nbformat": 4,
 "nbformat_minor": 2
}
