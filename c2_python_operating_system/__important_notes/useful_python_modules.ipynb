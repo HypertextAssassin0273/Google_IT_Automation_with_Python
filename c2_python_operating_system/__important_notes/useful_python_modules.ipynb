{
 "cells": [
  {
   "cell_type": "markdown",
   "metadata": {},
   "source": [
    "## Requests Module\n",
    "on ubuntu: pip3 install requests"
   ]
  },
  {
   "cell_type": "code",
   "execution_count": null,
   "metadata": {},
   "outputs": [],
   "source": [
    "pip install requests"
   ]
  },
  {
   "cell_type": "code",
   "execution_count": 2,
   "metadata": {},
   "outputs": [],
   "source": [
    "import requests  as req # useful for making requests to the web"
   ]
  },
  {
   "cell_type": "code",
   "execution_count": 3,
   "metadata": {},
   "outputs": [
    {
     "name": "stdout",
     "output_type": "stream",
     "text": [
      "200\n"
     ]
    }
   ],
   "source": [
    "response = req.get('https://www.google.com')\n",
    "\n",
    "print(response.status_code) # 200 means it was successful\n",
    "# print(response.text) # the content of the page\n",
    "# print(response.headers) # the headers of the response"
   ]
  },
  {
   "cell_type": "markdown",
   "metadata": {},
   "source": [
    "## Arrow Module\n",
    "on ubuntu: pip3 install arrow"
   ]
  },
  {
   "cell_type": "code",
   "execution_count": null,
   "metadata": {},
   "outputs": [],
   "source": [
    "pip install arrow"
   ]
  },
  {
   "cell_type": "code",
   "execution_count": 5,
   "metadata": {},
   "outputs": [],
   "source": [
    "import arrow as arr # useful for working with dates and times"
   ]
  },
  {
   "cell_type": "code",
   "execution_count": 6,
   "metadata": {},
   "outputs": [
    {
     "name": "stdout",
     "output_type": "stream",
     "text": [
      "Sunday, October 13, 2024\n",
      "Monday, October 14, 2024\n",
      "Sunday, October 27, 2024\n"
     ]
    }
   ],
   "source": [
    "# date = arrow.get('2020-01-18', 'YYYY-MM-DD') # parse a date\n",
    "date = arr.now() # get the current date and time\n",
    "\n",
    "# print(date) # print the date (in ISO 8601 format, default)\n",
    "print(date.format('dddd, MMMM D, YYYY')) # format the date\n",
    "\n",
    "# shift operation (immutable):\n",
    "print(date.shift(days=1).format('dddd, MMMM D, YYYY')) # shift the date by 1 day\n",
    "print(date.shift(weeks=2).format('dddd, MMMM D, YYYY')) # shift the date by 2 weeks"
   ]
  },
  {
   "cell_type": "markdown",
   "metadata": {},
   "source": [
    "## Pillow Module\n",
    "on ubuntu: pip3 install pillow"
   ]
  },
  {
   "cell_type": "code",
   "execution_count": null,
   "metadata": {},
   "outputs": [],
   "source": [
    "pip install pillow"
   ]
  },
  {
   "cell_type": "code",
   "execution_count": 8,
   "metadata": {},
   "outputs": [],
   "source": [
    "import PIL.Image as img # useful for working with images\n",
    "\n",
    "# from PIL import Image as img # alternative"
   ]
  },
  {
   "cell_type": "code",
   "execution_count": 9,
   "metadata": {},
   "outputs": [],
   "source": [
    "# pre-installed (aka in-built) modules:\n",
    "import io # useful for working with files and streams\n",
    "import os # useful for working with operating system functionalities (e.g. file-system)"
   ]
  },
  {
   "cell_type": "code",
   "execution_count": 10,
   "metadata": {},
   "outputs": [
    {
     "name": "stdout",
     "output_type": "stream",
     "text": [
      "(544, 184)\n",
      "PNG\n",
      "RGBA\n"
     ]
    },
    {
     "data": {
      "image/png": "[encoded data removed]",
      "text/plain": [
       "<PIL.PngImagePlugin.PngImageFile image mode=RGBA size=256x87>"
      ]
     },
     "metadata": {},
     "output_type": "display_data"
    }
   ],
   "source": [
    "### get an image from the web:\n",
    "response = req.get('https://www.google.com/images/branding/googlelogo/2x/googlelogo_color_272x92dp.png')\n",
    "image = img.open(io.BytesIO(response.content)) # open the image from a stream\n",
    "\n",
    "# useful properties:\n",
    "print(image.size)\n",
    "print(image.format)\n",
    "print(image.mode)\n",
    "\n",
    "# operations:\n",
    "image.thumbnail((256, 256)) # resize the image\n",
    "image.show() # show the image"
   ]
  },
  {
   "cell_type": "code",
   "execution_count": 11,
   "metadata": {},
   "outputs": [],
   "source": [
    "# create the 'assets' folder (if it doesn't exist already):\n",
    "if not os.path.exists('../__assets'):\n",
    "    os.makedirs('../__assets')\n",
    "\n",
    "# save the image (in 'assets' folder):\n",
    "image.save('../__assets/google_logo.png')"
   ]
  },
  {
   "cell_type": "markdown",
   "metadata": {},
   "source": [
    "## Pandas Module\n",
    "on ubuntu: pip3 install pillow"
   ]
  },
  {
   "cell_type": "code",
   "execution_count": null,
   "metadata": {},
   "outputs": [],
   "source": [
    "pip install pandas"
   ]
  },
  {
   "cell_type": "code",
   "execution_count": 13,
   "metadata": {},
   "outputs": [],
   "source": [
    "import pandas as pd # useful for working with data (in tables-format, for data analysis)"
   ]
  },
  {
   "cell_type": "code",
   "execution_count": 14,
   "metadata": {},
   "outputs": [
    {
     "data": {
      "text/html": [
       "<div>\n",
       "<style scoped>\n",
       "    .dataframe tbody tr th:only-of-type {\n",
       "        vertical-align: middle;\n",
       "    }\n",
       "\n",
       "    .dataframe tbody tr th {\n",
       "        vertical-align: top;\n",
       "    }\n",
       "\n",
       "    .dataframe thead th {\n",
       "        text-align: right;\n",
       "    }\n",
       "</style>\n",
       "<table border=\"1\" class=\"dataframe\">\n",
       "  <thead>\n",
       "    <tr style=\"text-align: right;\">\n",
       "      <th></th>\n",
       "      <th>visitors</th>\n",
       "      <th>errors</th>\n",
       "    </tr>\n",
       "  </thead>\n",
       "  <tbody>\n",
       "    <tr>\n",
       "      <th>Mon</th>\n",
       "      <td>1569</td>\n",
       "      <td>23</td>\n",
       "    </tr>\n",
       "    <tr>\n",
       "      <th>Tue</th>\n",
       "      <td>4567</td>\n",
       "      <td>45</td>\n",
       "    </tr>\n",
       "    <tr>\n",
       "      <th>Wed</th>\n",
       "      <td>9874</td>\n",
       "      <td>67</td>\n",
       "    </tr>\n",
       "    <tr>\n",
       "      <th>Thu</th>\n",
       "      <td>2345</td>\n",
       "      <td>12</td>\n",
       "    </tr>\n",
       "    <tr>\n",
       "      <th>Fri</th>\n",
       "      <td>3456</td>\n",
       "      <td>34</td>\n",
       "    </tr>\n",
       "  </tbody>\n",
       "</table>\n",
       "</div>"
      ],
      "text/plain": [
       "     visitors  errors\n",
       "Mon      1569      23\n",
       "Tue      4567      45\n",
       "Wed      9874      67\n",
       "Thu      2345      12\n",
       "Fri      3456      34"
      ]
     },
     "execution_count": 14,
     "metadata": {},
     "output_type": "execute_result"
    }
   ],
   "source": [
    "# create a DataFrame (to visualize data):\n",
    "visitors = [1569, 4567, 9874, 2345, 3456]\n",
    "errors = [23, 45, 67, 12, 34]\n",
    "\n",
    "df = pd.DataFrame({'visitors': visitors, 'errors': errors},\n",
    "                  index=['Mon', 'Tue', 'Wed', 'Thu', 'Fri'])\n",
    "\n",
    "# print(df) # prints in simple table format\n",
    "df.head() # shows the first 5 rows in DataFrame\n",
    "\n",
    "# note: it is similar to a dictionary, with 'keys' as column names and 'values' as lists"
   ]
  }
 ],
 "metadata": {
  "kernelspec": {
   "display_name": "Python 3",
   "language": "python",
   "name": "python3"
  },
  "language_info": {
   "codemirror_mode": {
    "name": "ipython",
    "version": 3
   },
   "file_extension": ".py",
   "mimetype": "text/x-python",
   "name": "python",
   "nbconvert_exporter": "python",
   "pygments_lexer": "ipython3",
   "version": "3.10.12"
  }
 },
 "nbformat": 4,
 "nbformat_minor": 2
}
