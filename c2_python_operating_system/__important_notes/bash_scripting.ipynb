{
 "cells": [
  {
   "cell_type": "markdown",
   "metadata": {},
   "source": [
    "### Basic Bash Scripting Commands"
   ]
  },
  {
   "cell_type": "code",
   "execution_count": 15,
   "metadata": {},
   "outputs": [
    {
     "name": "stdout",
     "output_type": "stream",
     "text": [
      "/mnt/c/Users/SHAHZAIB AHMED/OneDrive/Desktop/shared_work/Google_IT_Automation_with_Python/c2_python_operating_system/__assets\n"
     ]
    }
   ],
   "source": [
    "%cd ../__assets"
   ]
  },
  {
   "cell_type": "code",
   "execution_count": 16,
   "metadata": {},
   "outputs": [
    {
     "name": "stdout",
     "output_type": "stream",
     "text": [
      "/mnt/c/Users/SHAHZAIB AHMED/OneDrive/Desktop/shared_work/Google_IT_Automation_with_Python/c2_python_operating_system/__assets/mynewdir\n"
     ]
    }
   ],
   "source": [
    "%mkdir mynewdir\n",
    "%cd mynewdir"
   ]
  },
  {
   "cell_type": "code",
   "execution_count": 18,
   "metadata": {},
   "outputs": [],
   "source": [
    "%pwd\n",
    "%cp ../spider.txt ."
   ]
  },
  {
   "cell_type": "code",
   "execution_count": 25,
   "metadata": {},
   "outputs": [
    {
     "name": "stdout",
     "output_type": "stream",
     "text": [
      "total 0\n",
      "-rwxrwxrwx 1 shahzaib shahzaib  0 Nov 19 23:44 myfile.txt\n",
      "-rwxrwxrwx 1 shahzaib shahzaib 16 Nov 19 23:35 spider.txt\n",
      "total 0\n",
      "drwxrwxrwx 1 shahzaib shahzaib 4096 Nov 19 23:44 .\n",
      "drwxrwxrwx 1 shahzaib shahzaib 4096 Nov 19 23:34 ..\n",
      "-rwxrwxrwx 1 shahzaib shahzaib    0 Nov 19 23:44 myfile.txt\n",
      "-rwxrwxrwx 1 shahzaib shahzaib   16 Nov 19 23:35 spider.txt\n"
     ]
    }
   ],
   "source": [
    "%%bash\n",
    "\n",
    "touch myfile.txt\n",
    "ls -l\n",
    "ls -al"
   ]
  },
  {
   "cell_type": "code",
   "execution_count": 26,
   "metadata": {},
   "outputs": [
    {
     "name": "stdout",
     "output_type": "stream",
     "text": [
      "total 0\n",
      "-rwxrwxrwx 1 shahzaib shahzaib  0 Nov 19 23:44 emptyfile.txt\n",
      "-rwxrwxrwx 1 shahzaib shahzaib 16 Nov 19 23:35 spider.txt\n"
     ]
    }
   ],
   "source": [
    "%%bash\n",
    "\n",
    "mv myfile.txt emptyfile.txt\n",
    "ls -l"
   ]
  },
  {
   "cell_type": "code",
   "execution_count": 29,
   "metadata": {},
   "outputs": [
    {
     "name": "stdout",
     "output_type": "stream",
     "text": [
      "total 0\n"
     ]
    }
   ],
   "source": [
    "%%bash\n",
    "\n",
    "rm *\n",
    "ls -l"
   ]
  },
  {
   "cell_type": "code",
   "execution_count": null,
   "metadata": {},
   "outputs": [
    {
     "name": "stdout",
     "output_type": "stream",
     "text": [
      "/mnt/c/Users/SHAHZAIB AHMED/OneDrive/Desktop/shared_work/Google_IT_Automation_with_Python/c2_python_operating_system/__assets\n",
      "ls: cannot access 'mynewdir': No such file or directory\n"
     ]
    }
   ],
   "source": [
    "%cd ..\n",
    "%rmdir mynewdir\n",
    "%ls mynewdir"
   ]
  },
  {
   "cell_type": "markdown",
   "metadata": {},
   "source": [
    "### Redirect Streams"
   ]
  },
  {
   "cell_type": "code",
   "execution_count": null,
   "metadata": {},
   "outputs": [
    {
     "name": "stdout",
     "output_type": "stream",
     "text": [
      "/mnt/c/Users/SHAHZAIB AHMED/OneDrive/Desktop/shared_work/Google_IT_Automation_with_Python/c2_python_operating_system/__assets\n",
      "\n",
      "Hello, world!\n"
     ]
    }
   ],
   "source": [
    "%%bash\n",
    "\n",
    "pwd\n",
    "\n",
    "echo \"Hello, world!\" > new_file.txt\n",
    "\n",
    "echo # for getting newline to separate the output\n",
    "cat new_file.txt"
   ]
  },
  {
   "cell_type": "code",
   "execution_count": 124,
   "metadata": {},
   "outputs": [
    {
     "name": "stdout",
     "output_type": "stream",
     "text": [
      "#!/usr/bin/env python3\n",
      "print(\"Don't mind me, just a bit of text here...\")\n"
     ]
    }
   ],
   "source": [
    "! cat ../__scripts/for_bash_scripting/stdout_example.py"
   ]
  },
  {
   "cell_type": "code",
   "execution_count": null,
   "metadata": {},
   "outputs": [
    {
     "name": "stdout",
     "output_type": "stream",
     "text": [
      "\n",
      "Hello, world!\n",
      "Don't mind me, just a bit of text here...\n"
     ]
    }
   ],
   "source": [
    "%%bash\n",
    "\n",
    "target_file='../__scripts/for_bash_scripting/stdout_example.py' # bash variable\n",
    "\n",
    "./$target_file >> new_file.txt # appends the output of the script to the file\n",
    "\n",
    "cat new_file.txt"
   ]
  },
  {
   "cell_type": "code",
   "execution_count": null,
   "metadata": {},
   "outputs": [
    {
     "name": "stdout",
     "output_type": "stream",
     "text": [
      "This will come from STDIN: Now we write it to STDOUT: Hello, world!\n",
      "\n",
      "Traceback (most recent call last):\n",
      "  File \"/mnt/c/Users/SHAHZAIB AHMED/OneDrive/Desktop/shared_work/Google_IT_Automation_with_Python/c2_python_operating_system/__assets/./../__scripts/for_bash_scripting/streams_err.py\", line 5, in <module>\n",
      "    raise ValueError(\"Now we generate an error to STDERR\")\n",
      "ValueError: Now we generate an error to STDERR\n"
     ]
    }
   ],
   "source": [
    "%%bash\n",
    "\n",
    "target_file='../__scripts/for_bash_scripting/streams_err.py'\n",
    "\n",
    "./$target_file < new_file.txt 2> error_file.txt\n",
    "# break-down:\n",
    "# first, it redirects the content of new_file.txt to the script as input\n",
    "# then, it redirects the error output of the script to error_file.txt\n",
    "\n",
    "echo # newline for output separation\n",
    "cat error_file.txt\n",
    "\n",
    "\n",
    "# notes (for any executable):\n",
    "# '0' is the standard input (stdin)\n",
    "# '1' is the standard output (stdout)\n",
    "# '2' is the standard error (stderr)"
   ]
  },
  {
   "cell_type": "code",
   "execution_count": null,
   "metadata": {},
   "outputs": [],
   "source": []
  }
 ],
 "metadata": {
  "kernelspec": {
   "display_name": "Python 3",
   "language": "python",
   "name": "python3"
  },
  "language_info": {
   "codemirror_mode": {
    "name": "ipython",
    "version": 3
   },
   "file_extension": ".py",
   "mimetype": "text/x-python",
   "name": "python",
   "nbconvert_exporter": "python",
   "pygments_lexer": "ipython3",
   "version": "3.10.12"
  }
 },
 "nbformat": 4,
 "nbformat_minor": 2
}
