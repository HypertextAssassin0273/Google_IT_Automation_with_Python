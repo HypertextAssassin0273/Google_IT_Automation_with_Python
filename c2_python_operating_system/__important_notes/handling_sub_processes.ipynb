{
 "cells": [
  {
   "cell_type": "markdown",
   "metadata": {},
   "source": [
    "# Handling Sub-Processes in Python"
   ]
  },
  {
   "cell_type": "code",
   "execution_count": 2,
   "metadata": {},
   "outputs": [],
   "source": [
    "import subprocess"
   ]
  },
  {
   "cell_type": "markdown",
   "metadata": {},
   "source": [
    "#### Understanding the Usage"
   ]
  },
  {
   "cell_type": "code",
   "execution_count": 3,
   "metadata": {},
   "outputs": [
    {
     "name": "stdout",
     "output_type": "stream",
     "text": [
      "Sun Oct 27 21:37:27 PKT 2024\n"
     ]
    },
    {
     "data": {
      "text/plain": [
       "CompletedProcess(args=['date'], returncode=0)"
      ]
     },
     "execution_count": 3,
     "metadata": {},
     "output_type": "execute_result"
    }
   ],
   "source": [
    "subprocess.run([\"date\"])"
   ]
  },
  {
   "cell_type": "code",
   "execution_count": 12,
   "metadata": {},
   "outputs": [
    {
     "name": "stdout",
     "output_type": "stream",
     "text": [
      "Will sleep for 2 seconds...\n"
     ]
    },
    {
     "data": {
      "text/plain": [
       "CompletedProcess(args=['sleep', '2'], returncode=0)"
      ]
     },
     "execution_count": 12,
     "metadata": {},
     "output_type": "execute_result"
    }
   ],
   "source": [
    "print(\"Will sleep for 2 seconds...\")\n",
    "subprocess.run([\"sleep\", \"2\"])"
   ]
  },
  {
   "cell_type": "code",
   "execution_count": 19,
   "metadata": {},
   "outputs": [
    {
     "name": "stdout",
     "output_type": "stream",
     "text": [
      "returncode: 2\n"
     ]
    },
    {
     "name": "stderr",
     "output_type": "stream",
     "text": [
      "ls: cannot access 'this_file_does_not_exist': No such file or directory\n"
     ]
    }
   ],
   "source": [
    "result = subprocess.run([\"ls\", \"this_file_does_not_exist\"])\n",
    "print('returncode:', result.returncode)"
   ]
  },
  {
   "cell_type": "markdown",
   "metadata": {},
   "source": [
    "#### Obtaining the Output of a System Command"
   ]
  },
  {
   "cell_type": "code",
   "execution_count": 29,
   "metadata": {},
   "outputs": [
    {
     "name": "stdout",
     "output_type": "stream",
     "text": [
      "0\n",
      "b'8.8.8.8.in-addr.arpa domain name pointer dns.google.\\n'\n",
      "['8.8.8.8.in-addr.arpa', 'domain', 'name', 'pointer', 'dns.google.']\n"
     ]
    }
   ],
   "source": [
    "result = subprocess.run([\"host\", \"8.8.8.8\"], capture_output=True)\n",
    "\n",
    "print(result.returncode)\n",
    "print(result.stdout) # returns a 'byte string'\n",
    "print(result.stdout.decode().split()) # convert to string and then split by space"
   ]
  },
  {
   "cell_type": "code",
   "execution_count": 32,
   "metadata": {},
   "outputs": [
    {
     "name": "stdout",
     "output_type": "stream",
     "text": [
      "1\n",
      "b''\n",
      "b\"rm: cannot remove 'does_not_exist': No such file or directory\\n\"\n"
     ]
    }
   ],
   "source": [
    "result = subprocess.run([\"rm\", \"does_not_exist\"], capture_output=True)\n",
    "\n",
    "print(result.returncode)\n",
    "print(result.stdout)\n",
    "print(result.stderr)"
   ]
  },
  {
   "cell_type": "markdown",
   "metadata": {},
   "source": [
    "#### **When to use sub-process**"
   ]
  },
  {
   "cell_type": "markdown",
   "metadata": {},
   "source": [
    "Subprocess is best used when you need to interface with external processes, run complex shell commands, or need precise control over input and output. Subprocess also spawns fewer processes per task than OS, so subprocess can use less compute power. Other advantages include:\n",
    "- Subprocess can run any shell command, providing greater flexibility.\n",
    "- Subprocess can capture `stdout` and `stderr` easily.\n",
    "\n",
    "On the other hand, OS is useful for basic file and directory operations, environment variable management, and when you don't need the object-oriented approach provided by Pathlib. Other advantages include:\n",
    "- OS provides a simple way to interface with the operating system for basic operations.\n",
    "- OS is part of the standard library, so it's widely available.\n",
    "\n",
    "Finally, Pathlib is most helpful for working extensively with file paths, when you want an object-oriented and intuitive way to handle file system tasks, or when you're working on code where readability and maintainability are crucial. Other advantages include: \n",
    "- Pathlib provides an object-oriented approach to handle file system paths.\n",
    "- Compared to OS, Pathlib is more intuitive for file and directory operations. \n",
    "- Pathlib is more readable for path manipulations."
   ]
  },
  {
   "cell_type": "markdown",
   "metadata": {},
   "source": [
    "#### **Where sub-process shines**"
   ]
  },
  {
   "cell_type": "markdown",
   "metadata": {},
   "source": [
    "The basic ways of using subprocess are the `.run()` and `.Popen()` methods. There are additional methods, `.call()`, `.check_output()`, and `.check_call()`. Usually, you will just want to use `.run()` or one of the two check methods when appropriate. However, when spawning parallel processes or communicating between subprocesses, `.Popen()` has a lot more power!\n",
    "\n",
    "You can think of `.run()` as the simplest way to run a command and `.Popen()` as the most fully featured way to call external commands. \n",
    "\n",
    "All of the methods, `.run()`, `.call()`,  `.check_output()`, and `.check_call()` are wrappers around the `.Popen()` class."
   ]
  },
  {
   "cell_type": "markdown",
   "metadata": {},
   "source": [
    "#### **_Popen method_**"
   ]
  },
  {
   "cell_type": "markdown",
   "metadata": {},
   "source": [
    "`Popen()` offers more advanced features compared to the previously mentioned functions. It allows you to spawn a new process, connect to its input/output/error pipes, and obtain its return code.\n",
    "\n",
    "Using Popen to execute the echo command:"
   ]
  },
  {
   "cell_type": "code",
   "execution_count": 39,
   "metadata": {},
   "outputs": [
    {
     "data": {
      "text/plain": [
       "'Hello from popen!'"
      ]
     },
     "execution_count": 39,
     "metadata": {},
     "output_type": "execute_result"
    }
   ],
   "source": [
    "process_popen = subprocess.Popen(['echo', 'Hello from popen!'], stdout=subprocess.PIPE, text=True)\n",
    "\n",
    "output_popen, _ = process_popen.communicate()\n",
    "\n",
    "output_popen.strip()  # Extracting the stdout and stripping any extra whitespace"
   ]
  },
  {
   "cell_type": "markdown",
   "metadata": {},
   "source": [
    "#### **Pro tip**"
   ]
  },
  {
   "cell_type": "markdown",
   "metadata": {},
   "source": [
    "The `Popen()` command is very useful when you need asynchronous behavior and the ability to pipe information between a subprocess and the Python program that ran that subprocess. Imagine you want to start a long-running command in the background and then continue with other tasks in your script. Later on, you want to be able to check if the process has finished. Here’s how you would do that using Popen:"
   ]
  },
  {
   "cell_type": "code",
   "execution_count": 38,
   "metadata": {},
   "outputs": [
    {
     "name": "stdout",
     "output_type": "stream",
     "text": [
      "The process is running in the background... The process is still running.\n"
     ]
    }
   ],
   "source": [
    "import time\n",
    "\n",
    "process = subprocess.Popen(['sleep', '5'])\n",
    "\n",
    "message_1 = \"The process is running in the background...\"\n",
    "\n",
    "# Give it a couple of seconds to demonstrate the asynchronous behavior\n",
    "time.sleep(2)\n",
    "\n",
    "# Check if the process has finished\n",
    "if process.poll() is None:\n",
    "\tmessage_2 = \"The process is still running.\"\n",
    "else:\n",
    "\tmessage_2 = \"The process has finished.\"\n",
    "\n",
    "print(message_1, message_2)"
   ]
  },
  {
   "cell_type": "markdown",
   "metadata": {},
   "source": [
    "The process runs in the background as the script continues with other tasks (in this case, simply waiting for a couple of seconds). Then the script checks if the process is still running. In this case, the check was after 2 seconds' sleep, but Popen called sleep on 5 seconds. So the program confirms that the subprocess has not finished running. "
   ]
  },
  {
   "cell_type": "markdown",
   "metadata": {},
   "source": [
    "#### **Conclusion**"
   ]
  },
  {
   "cell_type": "markdown",
   "metadata": {},
   "source": [
    "Subprocess is a powerful module that allows you to do anything you could in Python from within the shell, then get information back into Python. You’ll probably want to stick with OS for basic file and directory operations or Pathlib for working extensively with file paths. But when you interface with external processes, run complex shell commands, or need precise control over input and output, the subprocess module is the way to go."
   ]
  }
 ],
 "metadata": {
  "kernelspec": {
   "display_name": "Python 3",
   "language": "python",
   "name": "python3"
  },
  "language_info": {
   "codemirror_mode": {
    "name": "ipython",
    "version": 3
   },
   "file_extension": ".py",
   "mimetype": "text/x-python",
   "name": "python",
   "nbconvert_exporter": "python",
   "pygments_lexer": "ipython3",
   "version": "3.10.12"
  }
 },
 "nbformat": 4,
 "nbformat_minor": 2
}
