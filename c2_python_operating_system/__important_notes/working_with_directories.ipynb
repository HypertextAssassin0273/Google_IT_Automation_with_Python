{
 "cells": [
  {
   "cell_type": "markdown",
   "metadata": {},
   "source": [
    "# Working with Directories"
   ]
  },
  {
   "cell_type": "code",
   "execution_count": 3,
   "metadata": {},
   "outputs": [],
   "source": [
    "import os"
   ]
  },
  {
   "cell_type": "code",
   "execution_count": 2,
   "metadata": {},
   "outputs": [
    {
     "name": "stdout",
     "output_type": "stream",
     "text": [
      "/mnt/c/Users/SHAHZAIB AHMED/OneDrive/Desktop/shared_work/Google_IT_Automation_with_Python/c2_python_operating_system/__important_notes\n"
     ]
    }
   ],
   "source": [
    "# get current working directory:\n",
    "print(os.getcwd())"
   ]
  },
  {
   "cell_type": "code",
   "execution_count": 3,
   "metadata": {},
   "outputs": [
    {
     "name": "stdout",
     "output_type": "stream",
     "text": [
      "Directory created!\n"
     ]
    }
   ],
   "source": [
    "# create a new directory (if it doesn't exist):\n",
    "if not os.path.exists('new_dir'):\n",
    "    os.mkdir('new_dir')\n",
    "    print('Directory created!')"
   ]
  },
  {
   "cell_type": "code",
   "execution_count": 4,
   "metadata": {},
   "outputs": [
    {
     "name": "stdout",
     "output_type": "stream",
     "text": [
      "Directory changed!\n"
     ]
    }
   ],
   "source": [
    "# change current working directory (if it exists):\n",
    "if os.path.exists('new_dir'):\n",
    "    os.chdir(\"new_dir\") # same as 'cd new_dir' in shell\n",
    "    print('Directory changed!')\n",
    "\n",
    "    os.chdir(\"..\") # go back to parent directory"
   ]
  },
  {
   "cell_type": "code",
   "execution_count": 5,
   "metadata": {},
   "outputs": [
    {
     "name": "stdout",
     "output_type": "stream",
     "text": [
      "Directory removed!\n"
     ]
    }
   ],
   "source": [
    "# remove the directory (if it exists):\n",
    "if os.path.exists('new_dir'):\n",
    "    os.rmdir('new_dir')\n",
    "    print('Directory removed!')"
   ]
  },
  {
   "cell_type": "code",
   "execution_count": 12,
   "metadata": {},
   "outputs": [
    {
     "name": "stdout",
     "output_type": "stream",
     "text": [
      "file      -> ../course_certificate.pdf\n",
      "directory -> ../m1_getting_your_python_on\n",
      "directory -> ../m2_managing_files_with_python\n",
      "directory -> ../m3_regular_expressions\n",
      "directory -> ../m4_managing_data_and_process\n",
      "directory -> ../m5_testing_in_python\n",
      "directory -> ../m6_bash_scripting\n",
      "directory -> ../m7_final_project\n",
      "file      -> ../readme.md\n",
      "directory -> ../__assets\n",
      "directory -> ../__important_notes\n",
      "directory -> ../__scripts\n"
     ]
    }
   ],
   "source": [
    "# list all directories & files in the parent directory (use-case):\n",
    "dir = '..'\n",
    "if os.path.exists(dir):\n",
    "    for name in os.listdir(dir):\n",
    "        fullname = os.path.join(dir, name)\n",
    "        if os.path.isdir(fullname):\n",
    "            print('directory ->', fullname)\n",
    "        elif os.path.isfile(fullname):\n",
    "            print(f\"{'file':<9} ->\", fullname)\n",
    "        else: # optional (in our case)\n",
    "            print(f\"{'unknown':<9} ->\", fullname)"
   ]
  }
 ],
 "metadata": {
  "kernelspec": {
   "display_name": "Python 3",
   "language": "python",
   "name": "python3"
  },
  "language_info": {
   "codemirror_mode": {
    "name": "ipython",
    "version": 3
   },
   "file_extension": ".py",
   "mimetype": "text/x-python",
   "name": "python",
   "nbconvert_exporter": "python",
   "pygments_lexer": "ipython3",
   "version": "3.10.12"
  }
 },
 "nbformat": 4,
 "nbformat_minor": 2
}
