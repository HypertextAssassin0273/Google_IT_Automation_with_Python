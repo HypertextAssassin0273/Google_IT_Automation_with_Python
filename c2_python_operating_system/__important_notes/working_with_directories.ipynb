{
 "cells": [
  {
   "cell_type": "markdown",
   "metadata": {},
   "source": [
    "# Working with Directories"
   ]
  },
  {
   "cell_type": "code",
   "execution_count": 1,
   "metadata": {},
   "outputs": [],
   "source": [
    "import os"
   ]
  },
  {
   "cell_type": "code",
   "execution_count": 2,
   "metadata": {},
   "outputs": [
    {
     "name": "stdout",
     "output_type": "stream",
     "text": [
      "/mnt/c/Users/SHAHZAIB AHMED/OneDrive/Desktop/shared_work/Google_IT_Automation_with_Python/c2_python_operating_system/__important_notes\n"
     ]
    }
   ],
   "source": [
    "# get current working directory:\n",
    "print(os.getcwd())"
   ]
  },
  {
   "cell_type": "code",
   "execution_count": 3,
   "metadata": {},
   "outputs": [
    {
     "name": "stdout",
     "output_type": "stream",
     "text": [
      "Directory created!\n"
     ]
    }
   ],
   "source": [
    "# create a new directory (if it doesn't exist):\n",
    "if not os.path.exists('new_dir'):\n",
    "    os.mkdir('new_dir')\n",
    "    print('Directory created!')"
   ]
  },
  {
   "cell_type": "code",
   "execution_count": 4,
   "metadata": {},
   "outputs": [
    {
     "name": "stdout",
     "output_type": "stream",
     "text": [
      "Directory changed!\n"
     ]
    }
   ],
   "source": [
    "# change current working directory (if it exists):\n",
    "if os.path.exists('new_dir'):\n",
    "    os.chdir(\"new_dir\") # same as 'cd new_dir' in shell\n",
    "    print('Directory changed!')\n",
    "\n",
    "    os.chdir(\"..\") # go back to parent directory"
   ]
  },
  {
   "cell_type": "code",
   "execution_count": 5,
   "metadata": {},
   "outputs": [
    {
     "name": "stdout",
     "output_type": "stream",
     "text": [
      "Directory removed!\n"
     ]
    }
   ],
   "source": [
    "# remove the directory (if it exists):\n",
    "if os.path.exists('new_dir'):\n",
    "    os.rmdir('new_dir')\n",
    "    print('Directory removed!')"
   ]
  },
  {
   "cell_type": "code",
   "execution_count": 12,
   "metadata": {},
   "outputs": [
    {
     "name": "stdout",
     "output_type": "stream",
     "text": [
      "file      -> ../course_certificate.pdf\n",
      "directory -> ../m1_getting_your_python_on\n",
      "directory -> ../m2_managing_files_with_python\n",
      "directory -> ../m3_regular_expressions\n",
      "directory -> ../m4_managing_data_and_process\n",
      "directory -> ../m5_testing_in_python\n",
      "directory -> ../m6_bash_scripting\n",
      "directory -> ../m7_final_project\n",
      "file      -> ../readme.md\n",
      "directory -> ../__assets\n",
      "directory -> ../__important_notes\n",
      "directory -> ../__scripts\n"
     ]
    }
   ],
   "source": [
    "# list all directories & files in the parent directory (use-case):\n",
    "dir = '..'\n",
    "if os.path.exists(dir):\n",
    "    for name in os.listdir(dir):\n",
    "        fullname = os.path.join(dir, name)\n",
    "        if os.path.isdir(fullname):\n",
    "            print('directory ->', fullname)\n",
    "        elif os.path.isfile(fullname):\n",
    "            print(f\"{'file':<9} ->\", fullname)\n",
    "        else: # optional (in our case)\n",
    "            print(f\"{'unknown':<9} ->\", fullname)"
   ]
  },
  {
   "cell_type": "markdown",
   "metadata": {},
   "source": [
    "### USECASE: create a directory & move a file from one directory to another:"
   ]
  },
  {
   "cell_type": "code",
   "execution_count": 2,
   "metadata": {},
   "outputs": [],
   "source": [
    "os.chdir(\"../__assets\") # go to the assets directory"
   ]
  },
  {
   "cell_type": "markdown",
   "metadata": {},
   "source": [
    "#### 1) using low-level OS functions:"
   ]
  },
  {
   "cell_type": "code",
   "execution_count": 3,
   "metadata": {},
   "outputs": [
    {
     "name": "stdout",
     "output_type": "stream",
     "text": [
      "File moved!\n"
     ]
    }
   ],
   "source": [
    "# check to see if a directory named \"test1\" exists under the current directory. if not, create it:\n",
    "dest_dir = os.path.join(os.getcwd(), \"test1\")\n",
    "if not os.path.exists(dest_dir):\n",
    "    os.mkdir(dest_dir)\n",
    "    print('Directory created!')\n",
    "\n",
    "# construct source and destination paths:\n",
    "src_file = os.path.join(os.getcwd(), 'README.md')\n",
    "dest_file = os.path.join(os.getcwd(), 'test1', 'README.md')\n",
    "\n",
    "# move the file from its original location to the destination:\n",
    "os.rename(src_file, dest_file)\n",
    "print('File moved!')"
   ]
  },
  {
   "cell_type": "markdown",
   "metadata": {},
   "source": [
    "#### 2) using Pathlib:"
   ]
  },
  {
   "cell_type": "code",
   "execution_count": 4,
   "metadata": {},
   "outputs": [],
   "source": [
    "from pathlib import Path"
   ]
  },
  {
   "cell_type": "code",
   "execution_count": 5,
   "metadata": {},
   "outputs": [
    {
     "data": {
      "text/plain": [
       "PosixPath('test1/README.md')"
      ]
     },
     "execution_count": 5,
     "metadata": {},
     "output_type": "execute_result"
    }
   ],
   "source": [
    "# check to see if the \"test1\" subdirectory exists. If not, create it:\n",
    "dest_dir = Path(\"./test1/\")\n",
    "if not dest_dir.exists():\n",
    "    dest_dir.mkdir()\n",
    "\n",
    "# construct source and destination paths:\n",
    "src_file = Path(\"./README.md\")\n",
    "dest_file = dest_dir / \"README.md\"\n",
    "\n",
    "# move the file from its original location to the destination:\n",
    "src_file.rename(dest_file)"
   ]
  }
 ],
 "metadata": {
  "kernelspec": {
   "display_name": "Python 3",
   "language": "python",
   "name": "python3"
  },
  "language_info": {
   "codemirror_mode": {
    "name": "ipython",
    "version": 3
   },
   "file_extension": ".py",
   "mimetype": "text/x-python",
   "name": "python",
   "nbconvert_exporter": "python",
   "pygments_lexer": "ipython3",
   "version": "3.10.12"
  }
 },
 "nbformat": 4,
 "nbformat_minor": 2
}
