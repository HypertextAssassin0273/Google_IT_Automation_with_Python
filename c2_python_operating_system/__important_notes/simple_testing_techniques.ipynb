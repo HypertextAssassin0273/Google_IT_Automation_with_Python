{
 "cells": [
  {
   "cell_type": "markdown",
   "metadata": {},
   "source": [
    "## Understanding Simple Testing Techniques"
   ]
  },
  {
   "cell_type": "markdown",
   "metadata": {},
   "source": [
    "#### Unit Test"
   ]
  },
  {
   "cell_type": "code",
   "execution_count": 32,
   "metadata": {},
   "outputs": [
    {
     "data": {
      "text/plain": [
       "(['flour', 'sugar', 'eggs', 'cocoa', 'sprinkles', 'cherries'], 14)"
      ]
     },
     "execution_count": 32,
     "metadata": {},
     "output_type": "execute_result"
    }
   ],
   "source": [
    "from typing import List # for type hinting (req. in Python versions < 3.9)\n",
    "\n",
    "class CakeFactory:\n",
    "    def __init__(self, cake_type: str, size: str):\n",
    "        self.cake_type = cake_type\n",
    "        self.size = size\n",
    "        self.toppings = []\n",
    "    \n",
    "        # price based on cake type and size:\n",
    "        self.price = 10 if self.cake_type == \"chocolate\" else 8\n",
    "        self.price += 2 if self.size == \"medium\" else 4 if self.size == \"large\" else 0\n",
    "\n",
    "    def add_topping(self, topping: str):\n",
    "        self.toppings.append(topping)\n",
    "        self.price += 1 # charging 1 unit for each topping\n",
    "\n",
    "    def check_ingredients(self) -> List[str]:\n",
    "        ingredients = ['flour', 'sugar', 'eggs']\n",
    "        ingredients.append('cocoa') if self.cake_type == \"chocolate\" else ingredients.append('vanilla extract')\n",
    "        ingredients += self.toppings\n",
    "        return ingredients\n",
    "\n",
    "    def check_price(self) -> float:\n",
    "        return self.price\n",
    "\n",
    "\n",
    "# example of creating a cake and adding toppings:\n",
    "cake = CakeFactory(\"chocolate\", \"medium\")\n",
    "cake.add_topping(\"sprinkles\")\n",
    "cake.add_topping(\"cherries\")\n",
    "cake_ingredients = cake.check_ingredients()\n",
    "cake_price = cake.check_price()\n",
    "\n",
    "cake_ingredients, cake_price # prints results for both (in notebook only)"
   ]
  },
  {
   "cell_type": "code",
   "execution_count": null,
   "metadata": {},
   "outputs": [
    {
     "name": "stderr",
     "output_type": "stream",
     "text": [
      "....\n",
      "----------------------------------------------------------------------\n",
      "Ran 4 tests in 0.008s\n",
      "\n",
      "OK\n"
     ]
    },
    {
     "data": {
      "text/plain": [
       "<unittest.runner.TextTestResult run=4 errors=0 failures=0>"
      ]
     },
     "execution_count": 33,
     "metadata": {},
     "output_type": "execute_result"
    }
   ],
   "source": [
    "import unittest # using in-built module for unit-testing\n",
    "\n",
    "# creating a 'child class' of 'TestCase' class (in order to run our tests):\n",
    "class TestCakeFactory(unittest.TestCase):\n",
    "    def test_create_cake(self):\n",
    "        cake = CakeFactory(\"vanilla\", \"small\")\n",
    "\n",
    "        self.assertEqual(cake.cake_type, \"vanilla\")\n",
    "        self.assertEqual(cake.size, \"small\")\n",
    "        self.assertEqual(cake.price, 8) # Vanilla cake, small size\n",
    "\n",
    "    def test_add_topping(self):\n",
    "        cake = CakeFactory(\"chocolate\", \"large\")\n",
    "        cake.add_topping(\"sprinkles\")\n",
    "\n",
    "        self.assertIn(\"sprinkles\", cake.toppings)\n",
    "\n",
    "    def test_check_ingredients(self):\n",
    "        cake = CakeFactory(\"chocolate\", \"medium\")\n",
    "        cake.add_topping(\"cherries\")\n",
    "        ingredients = cake.check_ingredients()\n",
    "\n",
    "        self.assertIn(\"cocoa\", ingredients)\n",
    "        self.assertIn(\"cherries\", ingredients)\n",
    "        self.assertNotIn(\"vanilla extract\", ingredients)\n",
    "\n",
    "    def test_check_price(self):\n",
    "        cake = CakeFactory(\"vanilla\", \"large\")\n",
    "        cake.add_topping(\"sprinkles\")\n",
    "        cake.add_topping(\"cherries\")\n",
    "        price = cake.check_price()\n",
    "     \n",
    "        self.assertEqual(price, 14) # Vanilla cake, large size + 2 toppings\n",
    "\n",
    "\n",
    "# running the unit-tests:\n",
    "unittest.TextTestRunner().run(unittest.TestLoader().loadTestsFromTestCase(TestCakeFactory)) # temporary object creation"
   ]
  },
  {
   "cell_type": "markdown",
   "metadata": {},
   "source": [
    "**_related material:_** \\\n",
    "1\\. [understanding class inheritance in python](https://www.geeksforgeeks.org/inheritance-in-python/) \\\n",
    "2\\. [important concepts for understanding unit test module](unit_test_module_concepts.md)"
   ]
  },
  {
   "cell_type": "markdown",
   "metadata": {},
   "source": [
    "#### Py Test"
   ]
  },
  {
   "cell_type": "code",
   "execution_count": null,
   "metadata": {},
   "outputs": [],
   "source": [
    "# installing pytest library (with shell command)\n",
    "! pip install pytest"
   ]
  },
  {
   "cell_type": "code",
   "execution_count": 35,
   "metadata": {},
   "outputs": [
    {
     "name": "stdout",
     "output_type": "stream",
     "text": [
      "/mnt/c/Users/SHAHZAIB AHMED/OneDrive/Desktop/shared_work/Google_IT_Automation_with_Python/c2_python_operating_system/__scripts/testing_techniques\n"
     ]
    }
   ],
   "source": [
    "# changing the current working directory (with line magic command) \n",
    "%cd ../__scripts/testing_techniques/"
   ]
  },
  {
   "cell_type": "code",
   "execution_count": 36,
   "metadata": {},
   "outputs": [
    {
     "name": "stdout",
     "output_type": "stream",
     "text": [
      "Writing using_pytest.py\n"
     ]
    }
   ],
   "source": [
    "%%file using_pytest.py\n",
    "import pytest # external library for testing\n",
    "from typing import List # for type hinting\n",
    "\n",
    "class Fruit:\n",
    "    def __init__(self, name: str):\n",
    "        self.name = name\n",
    "        self.cubed = False\n",
    "    \n",
    "    def cube(self):\n",
    "        self.cubed = True\n",
    "\n",
    "\n",
    "class FruitSalad:\n",
    "    def __init__(self, fruit_bowl: List[Fruit]):\n",
    "        self.fruits = fruit_bowl\n",
    "        self._cube_fruit()\n",
    "     \n",
    "    def _cube_fruit(self):\n",
    "        for fruit in self.fruits:\n",
    "            fruit.cube()\n",
    "\n",
    "\n",
    "# Arrange (setup) and Act (execution) steps:\n",
    "@pytest.fixture\n",
    "def fruit_bowl(): # arrange\n",
    "    return [Fruit('apple'), Fruit('banana')]\n",
    "\n",
    "def test_fruit_salad(fruit_bowl):\n",
    "    fruit_salad = FruitSalad(fruit_bowl) # act\n",
    "    assert all(fruit.cubed for fruit in fruit_salad.fruits) # assert\n",
    "\n",
    "\n",
    "# note: %%file -> cell magic command for saving the cell content to a file\n",
    "\n",
    "# side-notes (for pytest):\n",
    "# 1) a 'fixture' is a function that establishes a fixed baseline for tests\n",
    "#    by initializing data & preparing the testing environment\n",
    "# 2) any function name starting with 'test_' will be considered as a test function"
   ]
  },
  {
   "cell_type": "code",
   "execution_count": 37,
   "metadata": {},
   "outputs": [
    {
     "name": "stdout",
     "output_type": "stream",
     "text": [
      "\u001b[1m============================= test session starts ==============================\u001b[0m\n",
      "platform linux -- Python 3.10.12, pytest-8.3.3, pluggy-1.5.0 -- /bin/python3\n",
      "cachedir: .pytest_cache\n",
      "rootdir: /mnt/c/Users/SHAHZAIB AHMED/OneDrive/Desktop/shared_work/Google_IT_Automation_with_Python/c2_python_operating_system/__scripts/testing_techniques\n",
      "collected 1 item                                                               \u001b[0m\n",
      "\n",
      "using_pytest.py::test_fruit_salad \u001b[32mPASSED\u001b[0m\u001b[32m                                 [100%]\u001b[0m\n",
      "\n",
      "\u001b[32m============================== \u001b[32m\u001b[1m1 passed\u001b[0m\u001b[32m in 0.13s\u001b[0m\u001b[32m ===============================\u001b[0m\n"
     ]
    }
   ],
   "source": [
    "# running the test script with pytest\n",
    "! pytest -v using_pytest.py # prints the results of each test (verbose mode)"
   ]
  },
  {
   "cell_type": "code",
   "execution_count": 38,
   "metadata": {},
   "outputs": [
    {
     "name": "stdout",
     "output_type": "stream",
     "text": [
      "/mnt/c/Users/SHAHZAIB AHMED/OneDrive/Desktop/shared_work/Google_IT_Automation_with_Python/c2_python_operating_system/__important_notes\n"
     ]
    }
   ],
   "source": [
    "# changing current working directory back to previous one\n",
    "%cd -"
   ]
  },
  {
   "cell_type": "markdown",
   "metadata": {},
   "source": [
    "**_additional material:_** \\\n",
    "1\\. [shell (!) vs magic (%) commands in jupyter notebook](https://stackoverflow.com/questions/45784499/what-is-the-difference-between-and-in-jupyter-notebooks) \\\n",
    "2\\. [line (%) vs cell (%%) magic commands in jupyter notebook](https://www.stata.com/python/pystata18/notebook/Magic%20Commands0.html#:~:text=line,(%25%25).)\n"
   ]
  },
  {
   "cell_type": "markdown",
   "metadata": {},
   "source": [
    "#### Understanding Test suites with setUp() and teaarDown()"
   ]
  },
  {
   "cell_type": "code",
   "execution_count": 26,
   "metadata": {},
   "outputs": [
    {
     "name": "stderr",
     "output_type": "stream",
     "text": [
      ".."
     ]
    },
    {
     "name": "stderr",
     "output_type": "stream",
     "text": [
      "\n",
      "----------------------------------------------------------------------\n",
      "Ran 2 tests in 0.140s\n",
      "\n",
      "OK\n"
     ]
    },
    {
     "name": "stdout",
     "output_type": "stream",
     "text": [
      "Test Results:\n",
      "Test 1: PASSED\n",
      "Test 2: PASSED\n",
      "<<<END OF TEST>>>\n",
      "\n"
     ]
    }
   ],
   "source": [
    "import unittest, os, shutil\n",
    "\n",
    "# Function to test\n",
    "def simple_addition(a, b): return a + b\n",
    "\n",
    "# Paths for file operations\n",
    "ORIGINAL_FILE_PATH = \"/tmp/original_test_file.txt\"\n",
    "COPIED_FILE_PATH = \"../__assets/copied_test_file.txt\"\n",
    "\n",
    "# This method will be run once before any tests or test classes\n",
    "def setUpModule():\n",
    "\tglobal COUNTER\n",
    "\tCOUNTER = 0\n",
    "    \n",
    "\t# Create a file in /tmp\n",
    "\twith open(ORIGINAL_FILE_PATH, 'w') as file:\n",
    "\t\tfile.write(\"Test Results:\\n\")\n",
    "\n",
    "# This method will be run once after all tests and test classes\n",
    "def tearDownModule():\n",
    "\t# Copy the file to another directory\n",
    "\tshutil.copy2(ORIGINAL_FILE_PATH, COPIED_FILE_PATH)\n",
    "    \n",
    "\t# Remove the original file\n",
    "\tos.remove(ORIGINAL_FILE_PATH)\n",
    "\n",
    "\t# append ending msg in COPIED_FILE_PATH using shell command\n",
    "\t! echo \"<<<END OF TEST>>>\" >> {COPIED_FILE_PATH}\n",
    "\n",
    "# Test class\n",
    "class TestSimpleAddition(unittest.TestCase):\n",
    "\t# This method will be run before each individual test\n",
    "\tdef setUp(self):\n",
    "\t\tglobal COUNTER\n",
    "\t\tCOUNTER += 1\n",
    "\n",
    "\t# This method will be run after each individual test\n",
    "\tdef tearDown(self):\n",
    "\t\t# Append the test result to the file\n",
    "\t\twith open(ORIGINAL_FILE_PATH, 'a') as file:\n",
    "\t\t\tresult = \"PASSED\" if self._outcome.success else \"FAILED\"\n",
    "\t\t\tfile.write(f\"Test {COUNTER}: {result}\\n\")\n",
    "\n",
    "\t# Test methods\n",
    "\tdef test_add_positive_numbers(self):\n",
    "\t\tself.assertEqual(simple_addition(3, 4), 7)\n",
    "\n",
    "\tdef test_add_negative_numbers(self):\n",
    "\t\tself.assertEqual(simple_addition(-3, -4), -7)\n",
    "\n",
    "# Running the tests\n",
    "suite = unittest.TestLoader().loadTestsFromTestCase(TestSimpleAddition)\n",
    "runner = unittest.TextTestRunner()\n",
    "runner.run(suite)\n",
    "\n",
    "# Read the copied file to show the results\n",
    "with open(COPIED_FILE_PATH, 'r') as result_file:\n",
    "\ttest_results = result_file.read()\n",
    "\n",
    "print(test_results)\n",
    "\n",
    "# notes:\n",
    "# 1) '/tmp' is a temporary directory in Unix-based systems (that is always available irrespective of 'cwd')\n",
    "# 2) to access variables in shell commands, we use '{}' around the variable name (e.g. {COPIED_FILE_PATH})"
   ]
  }
 ],
 "metadata": {
  "kernelspec": {
   "display_name": "Python 3",
   "language": "python",
   "name": "python3"
  },
  "language_info": {
   "codemirror_mode": {
    "name": "ipython",
    "version": 3
   },
   "file_extension": ".py",
   "mimetype": "text/x-python",
   "name": "python",
   "nbconvert_exporter": "python",
   "pygments_lexer": "ipython3",
   "version": "3.10.12"
  }
 },
 "nbformat": 4,
 "nbformat_minor": 2
}
