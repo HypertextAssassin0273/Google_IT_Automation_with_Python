{
 "cells": [
  {
   "cell_type": "markdown",
   "metadata": {},
   "source": [
    "# Understanding Usage of Regular Expressions (RegEx)"
   ]
  },
  {
   "cell_type": "code",
   "execution_count": 23,
   "metadata": {},
   "outputs": [],
   "source": [
    "import re # in-built regular expression module"
   ]
  },
  {
   "cell_type": "markdown",
   "metadata": {},
   "source": [
    "#### Basic RegEx"
   ]
  },
  {
   "cell_type": "code",
   "execution_count": 24,
   "metadata": {},
   "outputs": [
    {
     "name": "stdout",
     "output_type": "stream",
     "text": [
      "<re.Match object; span=(2, 5), match='aza'>\n",
      "<re.Match object; span=(1, 4), match='aza'>\n"
     ]
    }
   ],
   "source": [
    "# find substring \"aza\":\n",
    "print(re.search(r\"aza\", \"plaza\"))\n",
    "print(re.search(r\"aza\", \"bazaar\"))"
   ]
  },
  {
   "cell_type": "code",
   "execution_count": 25,
   "metadata": {},
   "outputs": [
    {
     "name": "stdout",
     "output_type": "stream",
     "text": [
      "<re.Match object; span=(0, 1), match='x'>\n",
      "None\n"
     ]
    }
   ],
   "source": [
    "# find string that starts with \"x\":\n",
    "print(re.search(r\"^x\", \"xenon\"))\n",
    "print(re.search(r\"^x\", \"hi xenon\"))"
   ]
  },
  {
   "cell_type": "code",
   "execution_count": 26,
   "metadata": {},
   "outputs": [
    {
     "name": "stdout",
     "output_type": "stream",
     "text": [
      "<re.Match object; span=(4, 5), match='n'>\n",
      "None\n"
     ]
    }
   ],
   "source": [
    "# find string that ends with \"n\":\n",
    "print(re.search(r\"n$\", \"xenon\"))\n",
    "print(re.search(r\"n$\", \"xenon byeeee\"))"
   ]
  },
  {
   "cell_type": "code",
   "execution_count": 27,
   "metadata": {},
   "outputs": [
    {
     "name": "stdout",
     "output_type": "stream",
     "text": [
      "<re.Match object; span=(0, 4), match='peng'>\n",
      "<re.Match object; span=(4, 8), match='ping'>\n"
     ]
    }
   ],
   "source": [
    "# find sub-string with \"p\" followed by any character followed by \"ng\":\n",
    "print(re.search(r\"p.ng\", \"penguin\"))\n",
    "print(re.search(r\"p.ng\", \"clapping\"))"
   ]
  },
  {
   "cell_type": "code",
   "execution_count": 28,
   "metadata": {},
   "outputs": [
    {
     "name": "stdout",
     "output_type": "stream",
     "text": [
      "<re.Match object; span=(0, 6), match='Python'>\n",
      "<re.Match object; span=(0, 6), match='python'>\n",
      "None\n"
     ]
    }
   ],
   "source": [
    "# search for sub-string \"Python\" or \"python\":\n",
    "print(re.search(r\"[Pp]ython\", \"Python\"))\n",
    "print(re.search(r\"[Pp]ython\", \"python\"))\n",
    "print(re.search(r\"[Pp]ython\", \"ython\"))"
   ]
  },
  {
   "cell_type": "code",
   "execution_count": 29,
   "metadata": {},
   "outputs": [
    {
     "name": "stdout",
     "output_type": "stream",
     "text": [
      "<re.Match object; span=(18, 22), match='hway'>\n",
      "None\n"
     ]
    }
   ],
   "source": [
    "# search for a sub-string that starts with a lowercase letter, followed by \"way\":\n",
    "print(re.search(r\"[a-z]way\", \"The end of the highway\"))\n",
    "print(re.search(r\"[a-z]way\", \"What a way to go\"))"
   ]
  },
  {
   "cell_type": "code",
   "execution_count": 30,
   "metadata": {},
   "outputs": [
    {
     "name": "stdout",
     "output_type": "stream",
     "text": [
      "<re.Match object; span=(0, 6), match='cloudy'>\n",
      "<re.Match object; span=(0, 6), match='cloud9'>\n"
     ]
    }
   ],
   "source": [
    "# search for \"cloud\" sub-string followed by a (case-insensitive) letter or number:\n",
    "print(re.search(\"cloud[a-zA-Z0-9]\", \"cloudy\"))\n",
    "print(re.search(\"cloud[a-zA-Z0-9]\", \"cloud9\"))"
   ]
  },
  {
   "cell_type": "markdown",
   "metadata": {},
   "source": [
    "#### Circumflex/Carat Operator (^) as a Negation"
   ]
  },
  {
   "cell_type": "code",
   "execution_count": 31,
   "metadata": {},
   "outputs": [
    {
     "name": "stdout",
     "output_type": "stream",
     "text": [
      "<re.Match object; span=(4, 5), match=' '>\n",
      "<re.Match object; span=(30, 31), match='.'>\n"
     ]
    }
   ],
   "source": [
    "# find non-alphabetic characters in a string:\n",
    "print(re.search(r\"[^a-zA-Z]\", \"This is a sentence with spaces.\"))\n",
    "print(re.search(r\"[^a-zA-Z ]\", \"This is a sentence with spaces.\")) # also exclude spaces\n",
    "\n",
    "# note: 'negations' are only valid within square brackets"
   ]
  },
  {
   "cell_type": "markdown",
   "metadata": {},
   "source": [
    "#### Using Pipe (|) as OR Operator"
   ]
  },
  {
   "cell_type": "code",
   "execution_count": 32,
   "metadata": {},
   "outputs": [
    {
     "name": "stdout",
     "output_type": "stream",
     "text": [
      "<re.Match object; span=(7, 10), match='cat'>\n",
      "<re.Match object; span=(7, 10), match='dog'>\n",
      "<re.Match object; span=(12, 15), match='dog'>\n"
     ]
    }
   ],
   "source": [
    "# find substring \"cat\" or \"dog\":\n",
    "print(re.search(r\"cat|dog\", \"I like cats.\"))\n",
    "print(re.search(r\"cat|dog\", \"I love dogs!\"))\n",
    "print(re.search(r\"cat|dog\", \"I like both dogs and cats.\"))\n",
    "\n",
    "# note: returns first occurrence of the match (regardless of order)"
   ]
  },
  {
   "cell_type": "code",
   "execution_count": 33,
   "metadata": {},
   "outputs": [
    {
     "name": "stdout",
     "output_type": "stream",
     "text": [
      "['dog', 'cat']\n",
      "['cat', 'dog', 'cat']\n"
     ]
    }
   ],
   "source": [
    "print(re.findall(r\"cat|dog\", \"I like both dogs and cats.\"))\n",
    "print(re.findall(r\"cat|dog\", \"I like both cats and dog but I prefer cats.\"))\n",
    "\n",
    "# note: returns all (repeated) matches in the order they appear"
   ]
  },
  {
   "cell_type": "markdown",
   "metadata": {},
   "source": [
    "#### Repetition Qualifiers (*, +, ?)"
   ]
  },
  {
   "cell_type": "code",
   "execution_count": 34,
   "metadata": {},
   "outputs": [
    {
     "name": "stdout",
     "output_type": "stream",
     "text": [
      "<re.Match object; span=(0, 9), match='Pygmalion'>\n",
      "<re.Match object; span=(0, 17), match='Python Programmin'>\n"
     ]
    }
   ],
   "source": [
    "# find sub-string with \"Py\" followed by any number of characters followed by \"n\":\n",
    "print(re.search(r\"Py.*n\", \"Pygmalion\"))\n",
    "print(re.search(r\"Py.*n\", \"Python Programming\"))\n",
    "\n",
    "# note: \".*\" matches any character (except newline) zero or more times"
   ]
  },
  {
   "cell_type": "code",
   "execution_count": 35,
   "metadata": {},
   "outputs": [
    {
     "name": "stdout",
     "output_type": "stream",
     "text": [
      "<re.Match object; span=(0, 6), match='Python'>\n",
      "<re.Match object; span=(0, 3), match='Pyn'>\n"
     ]
    }
   ],
   "source": [
    "# find sub-string with \"Py\" followed by any number of lowercase letters followed by \"n\":\n",
    "print(re.search(r\"Py[a-z]*n\", \"Python Programming\"))\n",
    "print(re.search(r\"Py[a-z]*n\", \"Pyn\"))\n",
    "\n",
    "# note: \"[a-z]*\" matches any lowercase letter zero or more times"
   ]
  },
  {
   "cell_type": "code",
   "execution_count": 36,
   "metadata": {},
   "outputs": [
    {
     "name": "stdout",
     "output_type": "stream",
     "text": [
      "<re.Match object; span=(1, 3), match='ol'>\n",
      "<re.Match object; span=(1, 5), match='ooll'>\n",
      "None\n"
     ]
    }
   ],
   "source": [
    "# find sub-string with \"o\" one or more times followed by \"l\" one or more times:\n",
    "print(re.search(r\"o+l+\", \"goldfish\"))\n",
    "print(re.search(r\"o+l+\", \"woolly\"))\n",
    "print(re.search(r\"o+l+\", \"boil\"))\n",
    "\n",
    "# note: \"+\" matches one or more occurrences of the preceding character"
   ]
  },
  {
   "cell_type": "code",
   "execution_count": 37,
   "metadata": {},
   "outputs": [
    {
     "name": "stdout",
     "output_type": "stream",
     "text": [
      "<re.Match object; span=(3, 7), match='each'>\n",
      "<re.Match object; span=(7, 12), match='peach'>\n"
     ]
    }
   ],
   "source": [
    "# find sub-string \"each\" or \"peach\":\n",
    "print(re.search(r\"p?each\", \"To each their own\"))\n",
    "print(re.search(r\"p?each\", \"I like peaches\"))\n",
    "\n",
    "# note: \"?\" matches zero or exactly one occurrence of the preceding character"
   ]
  },
  {
   "cell_type": "markdown",
   "metadata": {},
   "source": [
    "#### Escaping characters"
   ]
  },
  {
   "cell_type": "code",
   "execution_count": 38,
   "metadata": {},
   "outputs": [
    {
     "name": "stdout",
     "output_type": "stream",
     "text": [
      "<re.Match object; span=(2, 6), match='lcom'>\n",
      "None\n",
      "<re.Match object; span=(8, 12), match='.com'>\n"
     ]
    }
   ],
   "source": [
    "print(re.search(r\".com\", \"welcome\"))\n",
    "print(re.search(r\"\\.com\", \"welcome\"))\n",
    "print(re.search(r\"\\.com\", \"mydomain.com\"))\n",
    "\n",
    "# note: \"\\\" is used to escape special characters"
   ]
  },
  {
   "cell_type": "code",
   "execution_count": 39,
   "metadata": {},
   "outputs": [
    {
     "name": "stdout",
     "output_type": "stream",
     "text": [
      "<re.Match object; span=(0, 4), match='This'>\n",
      "<re.Match object; span=(0, 19), match='And_this_is_another'>\n"
     ]
    }
   ],
   "source": [
    "print(re.search(r\"\\w*\", \"This is an example\"))\n",
    "print(re.search(r\"\\w*\", \"And_this_is_another\"))\n",
    "\n",
    "# note: \"\\w\" matches any alphanumeric character (including underscore)\n",
    "# some other important escape sequences: \\d (digits), \\s (whitespace), \\b (word boundary)"
   ]
  },
  {
   "cell_type": "markdown",
   "metadata": {},
   "source": [
    "#### Understand When to Avoid 'Greedy Match'"
   ]
  },
  {
   "cell_type": "code",
   "execution_count": 40,
   "metadata": {},
   "outputs": [
    {
     "name": "stdout",
     "output_type": "stream",
     "text": [
      "<re.Match object; span=(0, 9), match='Argentina'>\n",
      "<re.Match object; span=(0, 9), match='Azerbaija'>\n"
     ]
    }
   ],
   "source": [
    "# find sub-string starting with \"A\" and ending with \"a\" (greedy match):\n",
    "print(re.search(r\"A.*a\", \"Argentina\"))\n",
    "print(re.search(r\"A.*a\", \"Azerbaijan\"))"
   ]
  },
  {
   "cell_type": "code",
   "execution_count": 41,
   "metadata": {},
   "outputs": [
    {
     "name": "stdout",
     "output_type": "stream",
     "text": [
      "<re.Match object; span=(0, 9), match='Australia'>\n"
     ]
    }
   ],
   "source": [
    "# find complete string starting with \"A\" and ending with \"a\" (non-greedy match):\n",
    "print(re.search(r\"^A.*a$\", \"Australia\"))"
   ]
  },
  {
   "cell_type": "markdown",
   "metadata": {},
   "source": [
    "#### Some Practical Use Cases"
   ]
  },
  {
   "cell_type": "code",
   "execution_count": 42,
   "metadata": {},
   "outputs": [
    {
     "name": "stdout",
     "output_type": "stream",
     "text": [
      "<re.Match object; span=(0, 30), match='_this_is_a_valid_variable_name'>\n",
      "None\n",
      "<re.Match object; span=(0, 12), match='my_variable1'>\n",
      "None\n"
     ]
    }
   ],
   "source": [
    "# validate a variable name:\n",
    "pattern = r\"^[a-zA-Z_]\\w*$\" # \\w -> [a-zA-Z0-9_]\n",
    "\n",
    "print(re.search(pattern, \"_this_is_a_valid_variable_name\"))\n",
    "print(re.search(pattern, \"this isn't a valid variable\"))\n",
    "print(re.search(pattern, \"my_variable1\"))\n",
    "print(re.search(pattern, \"2my_variable1\"))"
   ]
  },
  {
   "cell_type": "code",
   "execution_count": 43,
   "metadata": {},
   "outputs": [
    {
     "name": "stdout",
     "output_type": "stream",
     "text": [
      "<re.Match object; span=(0, 12), match='123-456-7890'>\n",
      "None\n"
     ]
    }
   ],
   "source": [
    "# validate a US phone number:\n",
    "print(re.search(r\"\\d{3}-\\d{3}-\\d{4}\", \"123-456-7890\"))\n",
    "print(re.search(r\"\\d{3}-\\d{3}-\\d{4}\", \"0333-4455666\"))\n",
    "\n",
    "# note: \"{n}\" matches exactly 'n' occurrences of the preceding character"
   ]
  },
  {
   "cell_type": "code",
   "execution_count": 44,
   "metadata": {},
   "outputs": [
    {
     "name": "stdout",
     "output_type": "stream",
     "text": [
      "<re.Match object; span=(0, 8), match='-123.456'>\n",
      "<re.Match object; span=(0, 7), match='123.456'>\n",
      "<re.Match object; span=(0, 4), match='-123'>\n",
      "<re.Match object; span=(0, 3), match='123'>\n",
      "<re.Match object; span=(0, 5), match='-.456'>\n",
      "None\n"
     ]
    }
   ],
   "source": [
    "# validate a floating point number (aka float):\n",
    "pattern = r\"^-?\\d*(\\.\\d+)?$\"\n",
    "\n",
    "print(re.search(pattern, \"-123.456\"))\n",
    "print(re.search(pattern, \"123.456\"))\n",
    "print(re.search(pattern, \"-123\"))\n",
    "print(re.search(pattern, \"123\"))\n",
    "print(re.search(pattern, \"-.456\"))\n",
    "print(re.search(pattern, \"123.\")) # invalid\n",
    "\n",
    "# note: 'float' is any positive or negative number, with or without decimal places"
   ]
  },
  {
   "cell_type": "markdown",
   "metadata": {},
   "source": [
    "#### Capturing Groups"
   ]
  },
  {
   "cell_type": "code",
   "execution_count": 51,
   "metadata": {},
   "outputs": [
    {
     "name": "stdout",
     "output_type": "stream",
     "text": [
      "<re.Match object; span=(0, 13), match='Lovelace, Ada'>\n",
      "('Lovelace', 'Ada') \n",
      "\n",
      "Lovelace, Ada\n",
      "Lovelace\n",
      "Ada\n"
     ]
    }
   ],
   "source": [
    "# extract first and last names (as captured groups):\n",
    "result = re.search(r\"^(\\w*), (\\w*)$\", \"Lovelace, Ada\")\n",
    "\n",
    "print(result) # returns the match object\n",
    "print(result.groups(), '\\n') # returns a tuple of all captured groups\n",
    "\n",
    "print(result[0]) # returns the entire match string\n",
    "print(result[1]) # returns the first captured group\n",
    "print(result[2]) # returns the second captured group (and so on, if more groups are present)"
   ]
  },
  {
   "cell_type": "code",
   "execution_count": 46,
   "metadata": {},
   "outputs": [
    {
     "name": "stdout",
     "output_type": "stream",
     "text": [
      "Ada Lovelace\n",
      "Dennis Ritchie\n",
      "Hopper, Grace M.\n",
      "\n",
      "Ada Lovelace\n",
      "Dennis Ritchie\n",
      "Grace M. Hopper\n"
     ]
    }
   ],
   "source": [
    "# rearrange names by reversing the order of extracted names (use-case):\n",
    "def rearrange_name(name, regex):\n",
    "    result = re.search(regex, name) # extracting names\n",
    "    if result is None:\n",
    "        return name\n",
    "    return f\"{result[2]} {result[1]}\" # reversing the order of names\n",
    "\n",
    "def test_cases(regex):\n",
    "    print(rearrange_name(\"Lovelace, Ada\", regex))\n",
    "    print(rearrange_name(\"Ritchie, Dennis\", regex))\n",
    "    print(rearrange_name(\"Hopper, Grace M.\", regex))\n",
    "\n",
    "# simple grouping:\n",
    "test_cases(r\"^(\\w*), (\\w*)$\")\n",
    "print()\n",
    "\n",
    "# more complex grouping:\n",
    "test_cases(r\"^([\\w \\.-]*), ([\\w \\.-]*)$\")\n",
    "\n",
    "# note: using more complex grouping, we were able to work with 3rd test-case as well"
   ]
  },
  {
   "cell_type": "code",
   "execution_count": 47,
   "metadata": {},
   "outputs": [
    {
     "name": "stdout",
     "output_type": "stream",
     "text": [
      "12345\n"
     ]
    }
   ],
   "source": [
    "# extract process id from log entry (more practical use-case):\n",
    "log = \"July 31 07:51:48 mycomputer bad_process[12345]: ERROR Performing package upgrade\"\n",
    "\n",
    "regex = r\"\\[(\\d+)\\]\" # find string enclosed in square brackets followed by one or more digits\n",
    "\n",
    "result = re.search(regex, log) # search for regex in log\n",
    "\n",
    "print(result[1]) # print the first group of regex match"
   ]
  },
  {
   "cell_type": "markdown",
   "metadata": {},
   "source": [
    "#### More on Repetition Qualifiers"
   ]
  },
  {
   "cell_type": "code",
   "execution_count": 62,
   "metadata": {},
   "outputs": [
    {
     "name": "stdout",
     "output_type": "stream",
     "text": [
      "<re.Match object; span=(2, 7), match='ghost'>\n",
      "<re.Match object; span=(2, 7), match='scary'>\n"
     ]
    }
   ],
   "source": [
    "print(re.search(r\"[a-zA-Z]{5}\", \"a ghost\"))\n",
    "print(re.search(r\"[a-zA-Z]{5}\", \"a scary ghost appeared\"))"
   ]
  },
  {
   "cell_type": "code",
   "execution_count": 61,
   "metadata": {},
   "outputs": [
    {
     "name": "stdout",
     "output_type": "stream",
     "text": [
      "['scary', 'ghost', 'appea']\n",
      "['scary', 'ghost']\n"
     ]
    }
   ],
   "source": [
    "print(re.findall(r\"[a-zA-Z]{5}\", \"a scary ghost appeared\"))\n",
    "print(re.findall(r\"\\b[a-zA-Z]{5}\\b\", \"A scary ghost appeared\"))"
   ]
  },
  {
   "cell_type": "code",
   "execution_count": 100,
   "metadata": {},
   "outputs": [
    {
     "name": "stdout",
     "output_type": "stream",
     "text": [
      "['really', 'strawberri']\n",
      "['really', 'strawberries']\n"
     ]
    }
   ],
   "source": [
    "print(re.findall(r\"\\w{5,10}\", \"I really like strawberries\"))\n",
    "print(re.findall(r\"\\w{5,}\", \"I really like strawberries\"))"
   ]
  },
  {
   "cell_type": "code",
   "execution_count": 116,
   "metadata": {},
   "outputs": [
    {
     "name": "stdout",
     "output_type": "stream",
     "text": [
      "['I', '', 'reall', 'y', '', 'like', '', 'straw', 'berri', 'es', '']\n",
      "['I', 'reall', 'y', 'like', 'straw', 'berri', 'es']\n",
      "['I', '', 'really', '', 'like', '', 'strawberries', '']\n",
      "['I', 'really', 'like', 'strawberries']\n"
     ]
    }
   ],
   "source": [
    "print(re.findall(r\"\\w{,5}\", \"I really like strawberries\"))\n",
    "print(re.findall(r\"\\w{1,5}\", \"I really like strawberries\")) # ignore length '0' words\n",
    "\n",
    "print(re.findall(r\"\\w{,20}\", \"I really like strawberries\"))\n",
    "print(re.findall(r\"\\w{1,20}\", \"I really like strawberries\")) # ignore length '0' words\n",
    "\n",
    "# observation: \n",
    "# if you keep upper limit higher than the max substring length,\n",
    "# then it will not slice any substrings"
   ]
  },
  {
   "cell_type": "code",
   "execution_count": 119,
   "metadata": {},
   "outputs": [
    {
     "name": "stdout",
     "output_type": "stream",
     "text": [
      "<re.Match object; span=(0, 1), match='I'>\n",
      "<re.Match object; span=(14, 26), match='strawberries'>\n"
     ]
    }
   ],
   "source": [
    "print(re.search(r\"\\w{1,20}\", \"I really like strawberries\"))\n",
    "print(re.search(r\"s\\w{1,20}\", \"I really like strawberries\")) # force match to start with \"s\""
   ]
  }
 ],
 "metadata": {
  "kernelspec": {
   "display_name": "Python 3",
   "language": "python",
   "name": "python3"
  },
  "language_info": {
   "codemirror_mode": {
    "name": "ipython",
    "version": 3
   },
   "file_extension": ".py",
   "mimetype": "text/x-python",
   "name": "python",
   "nbconvert_exporter": "python",
   "pygments_lexer": "ipython3",
   "version": "3.10.12"
  }
 },
 "nbformat": 4,
 "nbformat_minor": 2
}
