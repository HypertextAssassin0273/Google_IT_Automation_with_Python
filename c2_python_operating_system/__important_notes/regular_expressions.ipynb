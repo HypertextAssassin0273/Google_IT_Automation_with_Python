{
 "cells": [
  {
   "cell_type": "markdown",
   "metadata": {},
   "source": [
    "## Understanding the Usage of Regular Expressions (RegEx)"
   ]
  },
  {
   "cell_type": "code",
   "execution_count": 237,
   "metadata": {},
   "outputs": [],
   "source": [
    "import re # in-built regular expression module"
   ]
  },
  {
   "cell_type": "markdown",
   "metadata": {},
   "source": [
    "### Basic RegEx"
   ]
  },
  {
   "cell_type": "code",
   "execution_count": 238,
   "metadata": {},
   "outputs": [
    {
     "name": "stdout",
     "output_type": "stream",
     "text": [
      "<re.Match object; span=(2, 5), match='aza'>\n",
      "<re.Match object; span=(1, 4), match='aza'>\n"
     ]
    }
   ],
   "source": [
    "# find substring 'aza':\n",
    "print(re.search(r\"aza\", \"plaza\"))\n",
    "print(re.search(r\"aza\", \"bazaar\"))"
   ]
  },
  {
   "cell_type": "code",
   "execution_count": 239,
   "metadata": {},
   "outputs": [
    {
     "name": "stdout",
     "output_type": "stream",
     "text": [
      "<re.Match object; span=(0, 1), match='x'>\n",
      "None\n"
     ]
    }
   ],
   "source": [
    "# find string that starts with 'x':\n",
    "print(re.search(r\"^x\", \"xenon\"))\n",
    "print(re.search(r\"^x\", \"hi xenon\"))"
   ]
  },
  {
   "cell_type": "code",
   "execution_count": 240,
   "metadata": {},
   "outputs": [
    {
     "name": "stdout",
     "output_type": "stream",
     "text": [
      "<re.Match object; span=(4, 5), match='n'>\n",
      "None\n"
     ]
    }
   ],
   "source": [
    "# find string that ends with 'n':\n",
    "print(re.search(r\"n$\", \"xenon\"))\n",
    "print(re.search(r\"n$\", \"xenon byeeee\"))"
   ]
  },
  {
   "cell_type": "code",
   "execution_count": 241,
   "metadata": {},
   "outputs": [
    {
     "name": "stdout",
     "output_type": "stream",
     "text": [
      "<re.Match object; span=(0, 4), match='peng'>\n",
      "<re.Match object; span=(4, 8), match='ping'>\n"
     ]
    }
   ],
   "source": [
    "# find sub-string with 'p' followed by 'any character' followed by 'ng':\n",
    "print(re.search(r\"p.ng\", \"penguin\"))\n",
    "print(re.search(r\"p.ng\", \"clapping\"))"
   ]
  },
  {
   "cell_type": "markdown",
   "metadata": {},
   "source": [
    "### Using Square Brackets '[]' as Character Class"
   ]
  },
  {
   "cell_type": "code",
   "execution_count": 242,
   "metadata": {},
   "outputs": [
    {
     "name": "stdout",
     "output_type": "stream",
     "text": [
      "<re.Match object; span=(0, 6), match='Python'>\n",
      "<re.Match object; span=(0, 6), match='python'>\n",
      "None\n"
     ]
    }
   ],
   "source": [
    "# search for sub-string 'Python' or 'python':\n",
    "print(re.search(r\"[Pp]ython\", \"Python\"))\n",
    "print(re.search(r\"[Pp]ython\", \"python\"))\n",
    "print(re.search(r\"[Pp]ython\", \"ython\"))"
   ]
  },
  {
   "cell_type": "code",
   "execution_count": 243,
   "metadata": {},
   "outputs": [
    {
     "name": "stdout",
     "output_type": "stream",
     "text": [
      "<re.Match object; span=(18, 22), match='hway'>\n",
      "None\n"
     ]
    }
   ],
   "source": [
    "# search for a sub-string that starts with a lowercase letter, followed by 'way':\n",
    "print(re.search(r\"[a-z]way\", \"The end of the highway\"))\n",
    "print(re.search(r\"[a-z]way\", \"What a way to go\"))"
   ]
  },
  {
   "cell_type": "code",
   "execution_count": 244,
   "metadata": {},
   "outputs": [
    {
     "name": "stdout",
     "output_type": "stream",
     "text": [
      "<re.Match object; span=(0, 6), match='cloudy'>\n",
      "<re.Match object; span=(0, 6), match='cloud9'>\n"
     ]
    }
   ],
   "source": [
    "# search for 'cloud' sub-string followed by a (case-insensitive) letter or number:\n",
    "print(re.search(\"cloud[a-zA-Z0-9]\", \"cloudy\"))\n",
    "print(re.search(\"cloud[a-zA-Z0-9]\", \"cloud9\"))"
   ]
  },
  {
   "cell_type": "markdown",
   "metadata": {},
   "source": [
    "### Using Carat '^' as NOT Operator (Negation)"
   ]
  },
  {
   "cell_type": "code",
   "execution_count": 245,
   "metadata": {},
   "outputs": [
    {
     "name": "stdout",
     "output_type": "stream",
     "text": [
      "<re.Match object; span=(4, 5), match=' '>\n",
      "<re.Match object; span=(30, 31), match='.'>\n"
     ]
    }
   ],
   "source": [
    "# find non-alphabetic characters in a string:\n",
    "print(re.search(r\"[^a-zA-Z]\", \"This is a sentence with spaces.\"))\n",
    "print(re.search(r\"[^a-zA-Z ]\", \"This is a sentence with spaces.\")) # also exclude spaces\n",
    "\n",
    "# note: 'negations' are only valid inside character class '[]'"
   ]
  },
  {
   "cell_type": "markdown",
   "metadata": {},
   "source": [
    "### Using Pipe '|' as OR Operator"
   ]
  },
  {
   "cell_type": "code",
   "execution_count": 246,
   "metadata": {},
   "outputs": [
    {
     "name": "stdout",
     "output_type": "stream",
     "text": [
      "<re.Match object; span=(7, 10), match='cat'>\n",
      "<re.Match object; span=(7, 10), match='dog'>\n",
      "<re.Match object; span=(12, 15), match='dog'>\n"
     ]
    }
   ],
   "source": [
    "# find substring 'cat' or 'dog':\n",
    "print(re.search(r\"cat|dog\", \"I like cats.\"))\n",
    "print(re.search(r\"cat|dog\", \"I love dogs!\"))\n",
    "print(re.search(r\"cat|dog\", \"I like both dogs and cats.\"))\n",
    "\n",
    "# note: returns first occurrence of the match (regardless of order)"
   ]
  },
  {
   "cell_type": "code",
   "execution_count": 247,
   "metadata": {},
   "outputs": [
    {
     "name": "stdout",
     "output_type": "stream",
     "text": [
      "['dog', 'cat']\n",
      "['cat', 'dog', 'cat']\n"
     ]
    }
   ],
   "source": [
    "print(re.findall(r\"cat|dog\", \"I like both dogs and cats.\"))\n",
    "print(re.findall(r\"cat|dog\", \"I like both cats and dog but I prefer cats.\"))\n",
    "\n",
    "# note: returns all (repeated) matches in the order they appear"
   ]
  },
  {
   "cell_type": "markdown",
   "metadata": {},
   "source": [
    "### Repetition Qualifiers (*, +, ?)"
   ]
  },
  {
   "cell_type": "code",
   "execution_count": 248,
   "metadata": {},
   "outputs": [
    {
     "name": "stdout",
     "output_type": "stream",
     "text": [
      "<re.Match object; span=(0, 9), match='Pygmalion'>\n",
      "<re.Match object; span=(0, 17), match='Python Programmin'>\n"
     ]
    }
   ],
   "source": [
    "# find sub-string with 'Py' followed by any number of characters followed by 'n':\n",
    "print(re.search(r\"Py.*n\", \"Pygmalion\"))\n",
    "print(re.search(r\"Py.*n\", \"Python Programming\"))\n",
    "\n",
    "# note: '.*' matches any character (except newline) zero or more times"
   ]
  },
  {
   "cell_type": "code",
   "execution_count": 249,
   "metadata": {},
   "outputs": [
    {
     "name": "stdout",
     "output_type": "stream",
     "text": [
      "<re.Match object; span=(0, 6), match='Python'>\n",
      "<re.Match object; span=(0, 3), match='Pyn'>\n"
     ]
    }
   ],
   "source": [
    "# find sub-string with 'Py' followed by any number of lowercase letters followed by 'n':\n",
    "print(re.search(r\"Py[a-z]*n\", \"Python Programming\"))\n",
    "print(re.search(r\"Py[a-z]*n\", \"Pyn\"))\n",
    "\n",
    "# note: '[a-z]*' matches any lowercase letter zero or more times"
   ]
  },
  {
   "cell_type": "code",
   "execution_count": 250,
   "metadata": {},
   "outputs": [
    {
     "name": "stdout",
     "output_type": "stream",
     "text": [
      "<re.Match object; span=(1, 3), match='ol'>\n",
      "<re.Match object; span=(1, 5), match='ooll'>\n",
      "None\n"
     ]
    }
   ],
   "source": [
    "# find sub-string with 'o' one or more times followed by 'l' one or more times:\n",
    "print(re.search(r\"o+l+\", \"goldfish\"))\n",
    "print(re.search(r\"o+l+\", \"woolly\"))\n",
    "print(re.search(r\"o+l+\", \"boil\"))\n",
    "\n",
    "# note: '+' matches one or more occurrences of the preceding character"
   ]
  },
  {
   "cell_type": "code",
   "execution_count": 251,
   "metadata": {},
   "outputs": [
    {
     "name": "stdout",
     "output_type": "stream",
     "text": [
      "<re.Match object; span=(3, 7), match='each'>\n",
      "<re.Match object; span=(7, 12), match='peach'>\n"
     ]
    }
   ],
   "source": [
    "# find sub-string 'each' or 'peach':\n",
    "print(re.search(r\"p?each\", \"To each their own\"))\n",
    "print(re.search(r\"p?each\", \"I like peaches\"))\n",
    "\n",
    "# note: '?' matches zero or exactly one occurrence of the preceding character"
   ]
  },
  {
   "cell_type": "markdown",
   "metadata": {},
   "source": [
    "### Escaping characters"
   ]
  },
  {
   "cell_type": "code",
   "execution_count": 252,
   "metadata": {},
   "outputs": [
    {
     "name": "stdout",
     "output_type": "stream",
     "text": [
      "<re.Match object; span=(2, 6), match='lcom'>\n",
      "None\n",
      "<re.Match object; span=(8, 12), match='.com'>\n"
     ]
    }
   ],
   "source": [
    "print(re.search(r\".com\", \"welcome\"))\n",
    "print(re.search(r\"\\.com\", \"welcome\"))\n",
    "print(re.search(r\"\\.com\", \"mydomain.com\"))\n",
    "\n",
    "# note: '\\' is used to escape special characters"
   ]
  },
  {
   "cell_type": "code",
   "execution_count": 253,
   "metadata": {},
   "outputs": [
    {
     "name": "stdout",
     "output_type": "stream",
     "text": [
      "<re.Match object; span=(0, 4), match='This'>\n",
      "<re.Match object; span=(0, 19), match='And_this_is_another'>\n"
     ]
    }
   ],
   "source": [
    "print(re.search(r\"\\w*\", \"This is an example\")) # \\w -> [a-zA-Z0-9_]\n",
    "print(re.search(r\"\\w*\", \"And_this_is_another\"))\n",
    "\n",
    "# some other escape sequences: \\d (digits), \\s (whitespace), \\b (word boundary)"
   ]
  },
  {
   "cell_type": "markdown",
   "metadata": {},
   "source": [
    "### Understand When to Avoid 'Greedy Match'"
   ]
  },
  {
   "cell_type": "code",
   "execution_count": 254,
   "metadata": {},
   "outputs": [
    {
     "name": "stdout",
     "output_type": "stream",
     "text": [
      "<re.Match object; span=(0, 9), match='Argentina'>\n",
      "<re.Match object; span=(0, 9), match='Azerbaija'>\n"
     ]
    }
   ],
   "source": [
    "# find sub-string starting with 'A' and ending with 'a' (greedy match):\n",
    "print(re.search(r\"A.*a\", \"Argentina\"))\n",
    "print(re.search(r\"A.*a\", \"Azerbaijan\"))"
   ]
  },
  {
   "cell_type": "code",
   "execution_count": 255,
   "metadata": {},
   "outputs": [
    {
     "name": "stdout",
     "output_type": "stream",
     "text": [
      "<re.Match object; span=(0, 9), match='Australia'>\n"
     ]
    }
   ],
   "source": [
    "# find complete string starting with 'A' and ending with 'a' (non-greedy match):\n",
    "print(re.search(r\"^A.*a$\", \"Australia\"))"
   ]
  },
  {
   "cell_type": "markdown",
   "metadata": {},
   "source": [
    "### Capturing Groups"
   ]
  },
  {
   "cell_type": "code",
   "execution_count": 256,
   "metadata": {},
   "outputs": [
    {
     "name": "stdout",
     "output_type": "stream",
     "text": [
      "<re.Match object; span=(0, 13), match='Lovelace, Ada'>\n",
      "('Lovelace', 'Ada') \n",
      "\n",
      "Lovelace, Ada\n",
      "Lovelace\n",
      "Ada\n"
     ]
    }
   ],
   "source": [
    "# extract first and last names (as captured groups):\n",
    "result = re.search(r\"^(\\w*), (\\w*)$\", \"Lovelace, Ada\")\n",
    "\n",
    "print(result) # returns the match object\n",
    "print(result.groups(), '\\n') # returns a tuple of all captured groups\n",
    "\n",
    "print(result[0]) # returns the entire match string\n",
    "print(result[1]) # returns the first captured group\n",
    "print(result[2]) # returns the second captured group (and so on, if more groups are present)"
   ]
  },
  {
   "cell_type": "code",
   "execution_count": 257,
   "metadata": {},
   "outputs": [
    {
     "name": "stdout",
     "output_type": "stream",
     "text": [
      "Ada Lovelace\n",
      "Dennis Ritchie\n",
      "Hopper, Grace M.\n",
      "\n",
      "Ada Lovelace\n",
      "Dennis Ritchie\n",
      "Grace M. Hopper\n"
     ]
    }
   ],
   "source": [
    "# rearrange names by reversing the order of extracted names (use-case):\n",
    "def rearrange_name(name, regex):\n",
    "    result = re.search(regex, name) # extracting names\n",
    "    if result is None:\n",
    "        return name\n",
    "    return f\"{result[2]} {result[1]}\" # reversing the order of names\n",
    "\n",
    "def test_cases(regex):\n",
    "    print(rearrange_name(\"Lovelace, Ada\", regex))\n",
    "    print(rearrange_name(\"Ritchie, Dennis\", regex))\n",
    "    print(rearrange_name(\"Hopper, Grace M.\", regex))\n",
    "\n",
    "# simple grouping:\n",
    "test_cases(r\"^(\\w*), (\\w*)$\")\n",
    "print()\n",
    "\n",
    "# more flexible grouping:\n",
    "test_cases(r\"^([\\w \\.-]*), ([\\w \\.-]*)$\")\n",
    "\n",
    "# note: using more flexible grouping, we were able to work with 3rd test-case as well"
   ]
  },
  {
   "cell_type": "markdown",
   "metadata": {},
   "source": [
    "### More on Repetition Qualifiers"
   ]
  },
  {
   "cell_type": "code",
   "execution_count": 258,
   "metadata": {},
   "outputs": [
    {
     "name": "stdout",
     "output_type": "stream",
     "text": [
      "<re.Match object; span=(2, 7), match='ghost'>\n",
      "<re.Match object; span=(2, 7), match='scary'>\n"
     ]
    }
   ],
   "source": [
    "print(re.search(r\"[a-zA-Z]{5}\", \"a ghost\"))\n",
    "print(re.search(r\"[a-zA-Z]{5}\", \"a scary ghost appeared\"))\n",
    "\n",
    "# note: '{n}' matches exactly 'n' occurrences of the preceding character"
   ]
  },
  {
   "cell_type": "code",
   "execution_count": 259,
   "metadata": {},
   "outputs": [
    {
     "name": "stdout",
     "output_type": "stream",
     "text": [
      "['scary', 'ghost', 'appea']\n",
      "['scary', 'ghost']\n"
     ]
    }
   ],
   "source": [
    "print(re.findall(r\"[a-zA-Z]{5}\", \"a scary ghost appeared\"))\n",
    "print(re.findall(r\"\\b[a-zA-Z]{5}\\b\", \"A scary ghost appeared\"))"
   ]
  },
  {
   "cell_type": "code",
   "execution_count": 260,
   "metadata": {},
   "outputs": [
    {
     "name": "stdout",
     "output_type": "stream",
     "text": [
      "['really', 'strawberri']\n",
      "['really', 'strawberries']\n"
     ]
    }
   ],
   "source": [
    "print(re.findall(r\"\\w{5,10}\", \"I really like strawberries\"))\n",
    "print(re.findall(r\"\\w{5,}\", \"I really like strawberries\"))"
   ]
  },
  {
   "cell_type": "code",
   "execution_count": 261,
   "metadata": {},
   "outputs": [
    {
     "name": "stdout",
     "output_type": "stream",
     "text": [
      "['I', '', 'reall', 'y', '', 'like', '', 'straw', 'berri', 'es', '']\n",
      "['I', 'reall', 'y', 'like', 'straw', 'berri', 'es']\n",
      "['I', 'really', 'like', 'strawberries']\n"
     ]
    }
   ],
   "source": [
    "print(re.findall(r\"\\w{,5}\", \"I really like strawberries\")) # this also includes length '0' words\n",
    "print(re.findall(r\"\\w{1,5}\", \"I really like strawberries\")) # ignore length '0' words\n",
    "print(re.findall(r\"\\w{1,20}\", \"I really like strawberries\"))\n",
    "\n",
    "# observation:\n",
    "# if you keep the upper limit high enough, then it will not slice any token (substring)"
   ]
  },
  {
   "cell_type": "code",
   "execution_count": 262,
   "metadata": {},
   "outputs": [
    {
     "name": "stdout",
     "output_type": "stream",
     "text": [
      "<re.Match object; span=(0, 1), match='I'>\n",
      "<re.Match object; span=(14, 26), match='strawberries'>\n"
     ]
    }
   ],
   "source": [
    "print(re.search(r\"\\w{,20}\", \"I really like strawberries\"))\n",
    "print(re.search(r\"s\\w{,20}\", \"I really like strawberries\")) # force 'match' to start with 's'"
   ]
  },
  {
   "cell_type": "markdown",
   "metadata": {},
   "source": [
    "### Some Important Use Cases"
   ]
  },
  {
   "cell_type": "code",
   "execution_count": 263,
   "metadata": {},
   "outputs": [
    {
     "name": "stdout",
     "output_type": "stream",
     "text": [
      "<re.Match object; span=(0, 30), match='_this_is_a_valid_variable_name'>\n",
      "None\n",
      "<re.Match object; span=(0, 12), match='my_variable1'>\n",
      "None\n"
     ]
    }
   ],
   "source": [
    "# validate a variable name:\n",
    "pattern = r\"^[a-zA-Z_]\\w*$\" # \\w -> [a-zA-Z0-9_]\n",
    "\n",
    "print(re.search(pattern, \"_this_is_a_valid_variable_name\"))\n",
    "print(re.search(pattern, \"this isn't a valid variable\"))\n",
    "print(re.search(pattern, \"my_variable1\"))\n",
    "print(re.search(pattern, \"2my_variable1\"))"
   ]
  },
  {
   "cell_type": "code",
   "execution_count": 264,
   "metadata": {},
   "outputs": [
    {
     "name": "stdout",
     "output_type": "stream",
     "text": [
      "<re.Match object; span=(0, 12), match='123-456-7890'>\n",
      "None\n"
     ]
    }
   ],
   "source": [
    "# validate a US phone number:\n",
    "print(re.search(r\"\\d{3}-\\d{3}-\\d{4}\", \"123-456-7890\")) # \\d{3} -> [0-9][0-9][0-9]\n",
    "print(re.search(r\"\\d{3}-\\d{3}-\\d{4}\", \"0333-4455666\"))"
   ]
  },
  {
   "cell_type": "code",
   "execution_count": 265,
   "metadata": {},
   "outputs": [
    {
     "name": "stdout",
     "output_type": "stream",
     "text": [
      "<re.Match object; span=(0, 8), match='-123.456'>\n",
      "<re.Match object; span=(0, 7), match='123.456'>\n",
      "<re.Match object; span=(0, 4), match='-123'>\n",
      "<re.Match object; span=(0, 3), match='123'>\n",
      "<re.Match object; span=(0, 5), match='-.456'>\n",
      "None\n"
     ]
    }
   ],
   "source": [
    "# validate a floating point number (aka float):\n",
    "pattern = r\"^-?\\d*(\\.\\d+)?$\"\n",
    "\n",
    "print(re.search(pattern, \"-123.456\"))\n",
    "print(re.search(pattern, \"123.456\"))\n",
    "print(re.search(pattern, \"-123\"))\n",
    "print(re.search(pattern, \"123\"))\n",
    "print(re.search(pattern, \"-.456\"))\n",
    "print(re.search(pattern, \"123.\")) # invalid\n",
    "\n",
    "# note: 'float' is any positive or negative number, with or without decimal places"
   ]
  },
  {
   "cell_type": "markdown",
   "metadata": {},
   "source": [
    "### Extract Process ID from Log Entry (Practical Use Case)"
   ]
  },
  {
   "cell_type": "code",
   "execution_count": 266,
   "metadata": {},
   "outputs": [
    {
     "name": "stdout",
     "output_type": "stream",
     "text": [
      "34567\n"
     ]
    }
   ],
   "source": [
    "log = \"July 31 07:51:48 mycomputer bad_process[12345]: ERROR Performing package upgrade\"\n",
    "log = \"A completely different string that also has numbers [34567]\"\n",
    "# log = \"99 elephants in a [cage]\"\n",
    "\n",
    "regex = r\"\\[(\\d+)\\]\" # find string enclosed in square brackets followed by one or more digits\n",
    "result = re.search(regex, log) # search for regex in log\n",
    "print(result[1]) # print the first group of regex match\n",
    "\n",
    "# note: here, 3rd log entry will raise an error (if we uncomment it)\n",
    "# reason: no safe-guard against 'None' type (if no match is found)"
   ]
  },
  {
   "cell_type": "code",
   "execution_count": 267,
   "metadata": {},
   "outputs": [
    {
     "name": "stdout",
     "output_type": "stream",
     "text": [
      "12345\n",
      "34567\n",
      "not found!\n"
     ]
    }
   ],
   "source": [
    "logs = [\n",
    "    \"July 31 07:51:48 mycomputer bad_process[12345]: ERROR Performing package upgrade\",\n",
    "    \"A completely different string that also has numbers [34567]\",\n",
    "    \"99 elephants in a [cage]\"\n",
    "]\n",
    "\n",
    "# correct implementation:\n",
    "def extract_pid(log):\n",
    "    regex = r\"\\[(\\d+)\\]\"\n",
    "    result = re.search(regex, log)\n",
    "    return \"not found!\" if result is None else result[1] # conditional check (as safe-guard)\n",
    "\n",
    "# testing all log entries:\n",
    "for log in logs:\n",
    "    print(extract_pid(log))"
   ]
  },
  {
   "cell_type": "markdown",
   "metadata": {},
   "source": [
    "### Splitting and Replacing"
   ]
  },
  {
   "cell_type": "code",
   "execution_count": 268,
   "metadata": {},
   "outputs": [
    {
     "name": "stdout",
     "output_type": "stream",
     "text": [
      "['One sentence', ' Another one', ' And the last one', '']\n",
      "['One sentence', '.', ' Another one', '?', ' And the last one', '!', '']\n"
     ]
    }
   ],
   "source": [
    "print(re.split(r\"[.?!]\", \"One sentence. Another one? And the last one!\"))\n",
    "\n",
    "print(re.split(r\"([.?!])\", \"One sentence. Another one? And the last one!\")) # include delimiters too\n",
    "\n",
    "# note: inside character class '[]', you don't necessarily need to escape 'special characters'\n",
    "# some exceptions: '^', '-', ']', '\\', '['"
   ]
  },
  {
   "cell_type": "code",
   "execution_count": 276,
   "metadata": {},
   "outputs": [
    {
     "name": "stdout",
     "output_type": "stream",
     "text": [
      "Received an email for [REDACTED]\n",
      "Ada Lovelace\n",
      "Ms. Weber and Ms. Bellmas have joined the team.\n"
     ]
    }
   ],
   "source": [
    "print(re.sub(r\"[\\w.%+-]+@[\\w.-]+\", \"[REDACTED]\", \"Received an email for go_nuts95@my.example.com\")) # censor email\n",
    "\n",
    "print(re.sub(r\"^([\\w .-]*), ([\\w .-]*)$\", r\"\\2 \\1\", \"Lovelace, Ada\")) # rearrange names\n",
    "\n",
    "print(re.sub(r\"([A-Z])\\.\\s+(\\w+)\", r\"Ms. \\2\", \"A. Weber and B. Bellmas have joined the team.\")) # replace initials\n",
    "\n",
    "# note: '\\1, \\2, ...' are used to refer to 'captured groups' in the replacement string (aka back-references)"
   ]
  },
  {
   "cell_type": "markdown",
   "metadata": {},
   "source": [
    "### Look-around Assertions"
   ]
  },
  {
   "cell_type": "code",
   "execution_count": 291,
   "metadata": {},
   "outputs": [
    {
     "name": "stdout",
     "output_type": "stream",
     "text": [
      "['Test1', 'Test2', 'Test4']\n"
     ]
    }
   ],
   "source": [
    "# look-ahead assertion:\n",
    "regex = r\"(Test\\d)-(?=Passed)\"\n",
    "tests = \"Test1-Passed, Test2-Passed, Test3-Failed, Test4-Passed, Test5-Failed\"\n",
    "\n",
    "print(re.findall(regex, tests))\n",
    "\n",
    "# note: look-ahead assertion is used to match a pattern only if it is followed by another pattern"
   ]
  },
  {
   "cell_type": "code",
   "execution_count": 299,
   "metadata": {},
   "outputs": [
    {
     "name": "stdout",
     "output_type": "stream",
     "text": [
      "['999.99', '699.99']\n"
     ]
    }
   ],
   "source": [
    "# look-behind assertion:\n",
    "regex = r\"(?<=\\$)\\d+\\.\\d+\"\n",
    "prices = \"The iPhone X costs $999.99 and the iPhone 8 costs $699.99\"\n",
    "\n",
    "print(re.findall(regex, prices))\n",
    "\n",
    "# note: look-behind assertion is used to match a pattern only if it is preceded by another pattern"
   ]
  },
  {
   "cell_type": "code",
   "execution_count": 311,
   "metadata": {},
   "outputs": [
    {
     "name": "stdout",
     "output_type": "stream",
     "text": [
      "['123.45', '678.90']\n"
     ]
    }
   ],
   "source": [
    "# using both look-ahead and look-behind assertions:\n",
    "regex = r\"(?<=\\$)\\d+\\.\\d+(?= per share)\"\n",
    "stocks = \"AMZN is trading at €987.65, AAPL is trading at $123.45 per share, GOOG is trading at $678.90 per share\"\n",
    "\n",
    "print(re.findall(regex, stocks))\n",
    "\n",
    "# note: works only if both assertions are satisfied (i.e. both conditions are met)"
   ]
  }
 ],
 "metadata": {
  "kernelspec": {
   "display_name": "Python 3",
   "language": "python",
   "name": "python3"
  },
  "language_info": {
   "codemirror_mode": {
    "name": "ipython",
    "version": 3
   },
   "file_extension": ".py",
   "mimetype": "text/x-python",
   "name": "python",
   "nbconvert_exporter": "python",
   "pygments_lexer": "ipython3",
   "version": "3.10.12"
  }
 },
 "nbformat": 4,
 "nbformat_minor": 2
}
