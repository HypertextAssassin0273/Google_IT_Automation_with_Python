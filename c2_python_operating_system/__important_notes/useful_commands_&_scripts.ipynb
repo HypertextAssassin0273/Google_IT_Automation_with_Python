{
 "cells": [
  {
   "cell_type": "markdown",
   "metadata": {},
   "source": [
    "# (In-built) Shutil & Psutil Modules Usage"
   ]
  },
  {
   "cell_type": "code",
   "execution_count": 61,
   "metadata": {},
   "outputs": [],
   "source": [
    "import shutil # shell utilities -> useful for disk/file operations (e.g. copy, move, delete)\n",
    "import psutil # process & system utilities -> useful for system monitoring (e.g. cpu, memory, disk, network)"
   ]
  },
  {
   "cell_type": "code",
   "execution_count": 79,
   "metadata": {},
   "outputs": [
    {
     "name": "stdout",
     "output_type": "stream",
     "text": [
      "usage(total=1081101176832, used=8040468480, free=1018068353024)\n",
      "Free space: 94.17 GB\n"
     ]
    }
   ],
   "source": [
    "du = shutil.disk_usage('/')\n",
    "print(du)\n",
    "\n",
    "print(f'Free space: {du.free / du.total * 100:.2f} GB')\n",
    "\n",
    "# note: '/' -> works as 'root directory' for linux & respective 'drive' for windows"
   ]
  },
  {
   "cell_type": "code",
   "execution_count": 63,
   "metadata": {},
   "outputs": [
    {
     "name": "stdout",
     "output_type": "stream",
     "text": [
      "CPU Usage: 1.30%\n"
     ]
    }
   ],
   "source": [
    "cu = psutil.cpu_percent(0.5)\n",
    "print(f'CPU Usage: {cu:.2f}%')\n",
    "\n",
    "# note: takes longer time to process if the 'interval' is longer"
   ]
  },
  {
   "cell_type": "markdown",
   "metadata": {},
   "source": [
    "# Understanding 'with' Keyword Usage"
   ]
  },
  {
   "cell_type": "code",
   "execution_count": 18,
   "metadata": {},
   "outputs": [
    {
     "name": "stdout",
     "output_type": "stream",
     "text": [
      "hi\n",
      "\n",
      "hi\n",
      "how r u?\n",
      "bye\n"
     ]
    }
   ],
   "source": [
    "# read file (traditional way):\n",
    "file = open('../__assets/spider.txt')\n",
    "\n",
    "print(file.readline())\n",
    "\n",
    "file.seek(0) # reset the file pointer\n",
    "print(file.read().strip()) # strip() -> remove last 'newline' character\n",
    "\n",
    "file.close()"
   ]
  },
  {
   "cell_type": "code",
   "execution_count": 19,
   "metadata": {},
   "outputs": [
    {
     "name": "stdout",
     "output_type": "stream",
     "text": [
      "hi\n",
      "how r u?\n",
      "bye\n"
     ]
    }
   ],
   "source": [
    "# read file (pythonic way):\n",
    "with open('../__assets/spider.txt') as file: # with -> context manager\n",
    "    print(file.read().strip())\n",
    "\n",
    "# key-points:\n",
    "# 1) 'with' statement 'creates a block of code' that gets executed with the 'opened file object'  \n",
    "#     and automatically 'closes the file' when the block is exited.\n",
    "# 2) 'as' statement assigns the 'file object' to the variable 'file'\n",
    "\n",
    "# side-notes:\n",
    "# 1) 'with' keyword can be used with other objects that support the 'context manager' protocol (e.g. threading.Lock)\n",
    "# 2) throws an exception if the file does not exist or cannot be opened (tip: use 'try-except' block or 'os.path.exists()')"
   ]
  },
  {
   "cell_type": "markdown",
   "metadata": {},
   "source": [
    "# (In-built) OS Module Basic Usage"
   ]
  },
  {
   "cell_type": "code",
   "execution_count": 2,
   "metadata": {},
   "outputs": [],
   "source": [
    "import os"
   ]
  },
  {
   "cell_type": "code",
   "execution_count": 21,
   "metadata": {},
   "outputs": [],
   "source": [
    "# create a new file:\n",
    "msg = 'Hello, world!'\n",
    "\n",
    "# using 'echo' command in the shell (not platform-independent)\n",
    "os.system(f'echo {msg} > ../__assets/hello.txt')\n",
    "\n",
    "# using in-built python function (preferred, portable)\n",
    "with open('../__assets/hello2.txt', 'w') as file: # with -> context manager\n",
    "    file.write(msg)"
   ]
  },
  {
   "cell_type": "code",
   "execution_count": 22,
   "metadata": {},
   "outputs": [
    {
     "name": "stdout",
     "output_type": "stream",
     "text": [
      "['google_logo.png', 'hello.txt', 'hello2.txt', 'spider.txt']\n"
     ]
    }
   ],
   "source": [
    "# list all files in the directory:\n",
    "print(os.listdir('../__assets'))\n",
    "\n",
    "# default: current directory"
   ]
  },
  {
   "cell_type": "code",
   "execution_count": 23,
   "metadata": {},
   "outputs": [
    {
     "name": "stdout",
     "output_type": "stream",
     "text": [
      "File does not exist!\n"
     ]
    }
   ],
   "source": [
    "# remove the file if it exists:\n",
    "if os.path.exists('../__assets/hello3.txt'):\n",
    "    os.remove('../__assets/hello3.txt')\n",
    "else:\n",
    "    print('File does not exist!')"
   ]
  },
  {
   "cell_type": "code",
   "execution_count": 24,
   "metadata": {},
   "outputs": [],
   "source": [
    "# remove all 'hello' files in the directory (use-case):\n",
    "files = os.listdir('../__assets')\n",
    "\n",
    "for file in files:\n",
    "    if file.startswith('hello'):\n",
    "        os.remove(os.path.join('../__assets', file))\n",
    "\n",
    "# print(os.listdir('../__assets')) # for debugging"
   ]
  },
  {
   "cell_type": "code",
   "execution_count": 25,
   "metadata": {},
   "outputs": [
    {
     "data": {
      "text/plain": [
       "16"
      ]
     },
     "execution_count": 25,
     "metadata": {},
     "output_type": "execute_result"
    }
   ],
   "source": [
    "# get size of the file in bytes:\n",
    "os.path.getsize(\"../__assets/spider.txt\")"
   ]
  },
  {
   "cell_type": "code",
   "execution_count": 26,
   "metadata": {},
   "outputs": [
    {
     "data": {
      "text/plain": [
       "'/mnt/c/Users/SHAHZAIB AHMED/OneDrive/Desktop/shared_work/Google_IT_Automation_with_Python/c2_python_operating_system/__important_notes/spider.txt'"
      ]
     },
     "execution_count": 26,
     "metadata": {},
     "output_type": "execute_result"
    }
   ],
   "source": [
    "# get absolute path of the file:\n",
    "os.path.abspath(\"spider.txt\")"
   ]
  },
  {
   "cell_type": "markdown",
   "metadata": {},
   "source": [
    "# (In-built) Datetime Module Usage"
   ]
  },
  {
   "cell_type": "code",
   "execution_count": 59,
   "metadata": {},
   "outputs": [
    {
     "name": "stdout",
     "output_type": "stream",
     "text": [
      "timestamp: 1728627647.9818811\n",
      "last modified: 2024-10-11 11:20:47\n"
     ]
    }
   ],
   "source": [
    "# get 'last modified' time of the file (use-case):\n",
    "import os\n",
    "from datetime import datetime\n",
    "\n",
    "asset_path = os.path.join('..', '__assets', 'spider.txt') # '../__assets/spider.txt'\n",
    "\n",
    "timestamp = os.path.getmtime(asset_path) # get last modified time of the file\n",
    "print('timestamp:', timestamp)\n",
    "\n",
    "time = datetime.fromtimestamp(timestamp) # converts 'timestamp' to 'datetime' object\n",
    "print('last modified:', time.strftime('%Y-%m-%d %H:%M:%S')) # strftime -> string format time\n",
    "\n",
    "# notes:\n",
    "# 1) 'strftime()' is used to ignore the 'microseconds' part of the 'datetime' object\n",
    "# 2) 'os.path.join()' is used to make 'file path' platform-independent"
   ]
  }
 ],
 "metadata": {
  "kernelspec": {
   "display_name": "Python 3",
   "language": "python",
   "name": "python3"
  },
  "language_info": {
   "codemirror_mode": {
    "name": "ipython",
    "version": 3
   },
   "file_extension": ".py",
   "mimetype": "text/x-python",
   "name": "python",
   "nbconvert_exporter": "python",
   "pygments_lexer": "ipython3",
   "version": "3.10.12"
  }
 },
 "nbformat": 4,
 "nbformat_minor": 2
}
