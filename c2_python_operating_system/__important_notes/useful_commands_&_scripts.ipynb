{
 "cells": [
  {
   "cell_type": "markdown",
   "metadata": {},
   "source": [
    "## usage of shutil & psutil modules"
   ]
  },
  {
   "cell_type": "code",
   "execution_count": 1,
   "metadata": {},
   "outputs": [],
   "source": [
    "import shutil, psutil"
   ]
  },
  {
   "cell_type": "code",
   "execution_count": 2,
   "metadata": {},
   "outputs": [
    {
     "name": "stdout",
     "output_type": "stream",
     "text": [
      "usage(total=1081101176832, used=8039645184, free=1018069176320)\n",
      "Free space: 94.17 GB\n"
     ]
    }
   ],
   "source": [
    "du = shutil.disk_usage(\"/\")\n",
    "print(du)\n",
    "\n",
    "print(\"Free space: {:.2f} GB\".format(du.free / du.total * 100))"
   ]
  },
  {
   "cell_type": "code",
   "execution_count": 3,
   "metadata": {},
   "outputs": [
    {
     "name": "stdout",
     "output_type": "stream",
     "text": [
      "CPU Usage: 1.50%\n"
     ]
    }
   ],
   "source": [
    "cu = psutil.cpu_percent(0.5)\n",
    "print(\"CPU Usage: {:.2f}%\".format(cu))\n",
    "\n",
    "# note: takes longer time to process if the 'interval' is longer"
   ]
  },
  {
   "cell_type": "markdown",
   "metadata": {},
   "source": [
    "## understanding 'with' keyword usage"
   ]
  },
  {
   "cell_type": "code",
   "execution_count": 4,
   "metadata": {},
   "outputs": [
    {
     "name": "stdout",
     "output_type": "stream",
     "text": [
      "hi\n",
      "\n",
      "hi\n",
      "how r u?\n",
      "bye\n"
     ]
    }
   ],
   "source": [
    "# read file (traditional way):\n",
    "file = open('../__assets/spider.txt')\n",
    "\n",
    "print(file.readline())\n",
    "\n",
    "file.seek(0) # reset the file pointer\n",
    "print(file.read().strip()) # strip() -> remove last 'newline' character\n",
    "\n",
    "file.close()"
   ]
  },
  {
   "cell_type": "code",
   "execution_count": 5,
   "metadata": {},
   "outputs": [
    {
     "name": "stdout",
     "output_type": "stream",
     "text": [
      "hi\n",
      "how r u?\n",
      "bye\n"
     ]
    }
   ],
   "source": [
    "# read file (pythonic way):\n",
    "with open('../__assets/spider.txt') as file: # with -> context manager\n",
    "    print(file.read().strip())\n",
    "\n",
    "# key-points:\n",
    "# 1) 'with' statement 'creates a block of code' that gets executed with the 'opened file object'  \n",
    "#     and automatically 'closes the file' when the block is exited.\n",
    "# 2) 'as' statement assigns the 'file object' to the variable 'file'\n",
    "\n",
    "# side-notes:\n",
    "# 1) 'with' keyword can be used with other objects that support the 'context manager' protocol (e.g. threading.Lock)\n",
    "# 2) throws an exception if the file does not exist or cannot be opened (tip: use 'try-except' block or 'os.path.exists()')"
   ]
  },
  {
   "cell_type": "markdown",
   "metadata": {},
   "source": [
    "## usage of OS module"
   ]
  },
  {
   "cell_type": "code",
   "execution_count": 6,
   "metadata": {},
   "outputs": [],
   "source": [
    "import os"
   ]
  },
  {
   "cell_type": "code",
   "execution_count": 7,
   "metadata": {},
   "outputs": [],
   "source": [
    "# create a new file:\n",
    "msg = 'Hello, world!'\n",
    "\n",
    "# using 'echo' command in the shell (not platform-independent)\n",
    "os.system(f'echo {msg} > ../__assets/hello.txt')\n",
    "\n",
    "# using in-built python function (preferred, portable)\n",
    "with open('../__assets/hello2.txt', 'w') as file: # with -> context manager\n",
    "    file.write(msg)"
   ]
  },
  {
   "cell_type": "code",
   "execution_count": 8,
   "metadata": {},
   "outputs": [
    {
     "name": "stdout",
     "output_type": "stream",
     "text": [
      "['google_logo.png', 'hello.txt', 'hello2.txt', 'spider.txt']\n"
     ]
    }
   ],
   "source": [
    "# list all files in the directory:\n",
    "print(os.listdir('../__assets'))\n",
    "\n",
    "# default: current directory"
   ]
  },
  {
   "cell_type": "code",
   "execution_count": 9,
   "metadata": {},
   "outputs": [
    {
     "name": "stdout",
     "output_type": "stream",
     "text": [
      "File does not exist!\n"
     ]
    }
   ],
   "source": [
    "# remove the file if it exists:\n",
    "if os.path.exists('../__assets/hello3.txt'):\n",
    "    os.remove('../__assets/hello3.txt')\n",
    "else:\n",
    "    print('File does not exist!')"
   ]
  },
  {
   "cell_type": "code",
   "execution_count": 10,
   "metadata": {},
   "outputs": [],
   "source": [
    "# remove all 'hello' files in the directory:\n",
    "files = os.listdir('../__assets')\n",
    "\n",
    "for file in files:\n",
    "    if file.startswith('hello'):\n",
    "        os.remove(os.path.join('../__assets', file))\n",
    "\n",
    "# print(os.listdir('../__assets')) # for debugging"
   ]
  }
 ],
 "metadata": {
  "kernelspec": {
   "display_name": "Python 3",
   "language": "python",
   "name": "python3"
  },
  "language_info": {
   "codemirror_mode": {
    "name": "ipython",
    "version": 3
   },
   "file_extension": ".py",
   "mimetype": "text/x-python",
   "name": "python",
   "nbconvert_exporter": "python",
   "pygments_lexer": "ipython3",
   "version": "3.10.12"
  }
 },
 "nbformat": 4,
 "nbformat_minor": 2
}
