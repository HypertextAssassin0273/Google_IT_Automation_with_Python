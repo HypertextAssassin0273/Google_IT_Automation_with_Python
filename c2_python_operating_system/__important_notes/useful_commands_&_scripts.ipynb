{
 "cells": [
  {
   "cell_type": "markdown",
   "metadata": {},
   "source": [
    "## usage of shutil & psutil"
   ]
  },
  {
   "cell_type": "code",
   "execution_count": 1,
   "metadata": {},
   "outputs": [],
   "source": [
    "import shutil, psutil"
   ]
  },
  {
   "cell_type": "code",
   "execution_count": 4,
   "metadata": {},
   "outputs": [
    {
     "name": "stdout",
     "output_type": "stream",
     "text": [
      "usage(total=1081101176832, used=8038055936, free=1018070765568)\n",
      "Free space: 94.17 GB\n"
     ]
    }
   ],
   "source": [
    "du = shutil.disk_usage(\"/\")\n",
    "print(du)\n",
    "\n",
    "print(\"Free space: {:.2f} GB\".format(du.free / du.total * 100))"
   ]
  },
  {
   "cell_type": "code",
   "execution_count": 14,
   "metadata": {},
   "outputs": [
    {
     "name": "stdout",
     "output_type": "stream",
     "text": [
      "CPU Usage: 2.70%\n"
     ]
    }
   ],
   "source": [
    "cu = psutil.cpu_percent(0.5)\n",
    "print(\"CPU Usage: {:.2f}%\".format(cu))\n",
    "\n",
    "# note: takes longer time to process if the 'interval' is longer"
   ]
  },
  {
   "cell_type": "markdown",
   "metadata": {},
   "source": [
    "## understanding 'with' keyword usage"
   ]
  },
  {
   "cell_type": "code",
   "execution_count": 18,
   "metadata": {},
   "outputs": [
    {
     "name": "stdout",
     "output_type": "stream",
     "text": [
      "hi\n",
      "\n",
      "hi\n",
      "how r u?\n",
      "bye\n",
      "\n"
     ]
    }
   ],
   "source": [
    "file = open('../__assets/spider.txt')\n",
    "\n",
    "print(file.readline())\n",
    "file.seek(0) # reset the file pointer\n",
    "print(file.read())\n",
    "\n",
    "file.close()"
   ]
  },
  {
   "cell_type": "code",
   "execution_count": 19,
   "metadata": {},
   "outputs": [
    {
     "name": "stdout",
     "output_type": "stream",
     "text": [
      "hi\n",
      "how r u?\n",
      "bye\n",
      "\n"
     ]
    }
   ],
   "source": [
    "with open('../__assets/spider.txt') as file:\n",
    "    print(file.read())\n",
    "\n",
    "# important-notes:\n",
    "# 1) 'with' statement creates a block of code that will be executed with the 'opened file' object  \n",
    "#     and automatically closes the file when the block is exited.\n",
    "# 2) 'as' statement assigns the file object to the variable 'file'\n",
    "\n",
    "# side-note:\n",
    "# 'with' keyword can be used with other objects that support the context manager protocol (e.g. threading.Lock)"
   ]
  }
 ],
 "metadata": {
  "kernelspec": {
   "display_name": "Python 3",
   "language": "python",
   "name": "python3"
  },
  "language_info": {
   "codemirror_mode": {
    "name": "ipython",
    "version": 3
   },
   "file_extension": ".py",
   "mimetype": "text/x-python",
   "name": "python",
   "nbconvert_exporter": "python",
   "pygments_lexer": "ipython3",
   "version": "3.10.12"
  }
 },
 "nbformat": 4,
 "nbformat_minor": 2
}
